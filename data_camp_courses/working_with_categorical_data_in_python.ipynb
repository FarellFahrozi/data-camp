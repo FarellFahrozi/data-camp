{
 "cells": [
  {
   "cell_type": "markdown",
   "metadata": {},
   "source": [
    "# 1) Introduction to Categorical Data"
   ]
  },
  {
   "cell_type": "markdown",
   "metadata": {},
   "source": [
    "## Course introduction"
   ]
  },
  {
   "cell_type": "markdown",
   "metadata": {},
   "source": [
    "**Categorical vs. numerical**\n",
    "\n",
    "You are about to take your first look at a new dataset. Before you can properly explore specific columns, you need to be able to correctly identify columns as being either categorical, or numerical. This is an important step because the analyses you will run on each column are determined by the column's classification.\n",
    "\n",
    "***Answer:***\n",
    "\n",
    "<img src=\"/home/cyberx/data_camp_courses/images/Screenshot 2024-12-03 110120.png\">"
   ]
  },
  {
   "cell_type": "markdown",
   "metadata": {},
   "source": [
    "**Exploring a target variable**\n",
    "\n",
    "You have been asked to build a machine learning model to predict whether or not a person makes over $50,000 in a year. To understand the target variable, Above/Below 50k, you decide to explore the variable in more detail."
   ]
  },
  {
   "cell_type": "code",
   "execution_count": 2,
   "metadata": {},
   "outputs": [
    {
     "name": "stdout",
     "output_type": "stream",
     "text": [
      "<class 'pandas.core.frame.DataFrame'>\n",
      "RangeIndex: 32561 entries, 0 to 32560\n",
      "Data columns (total 15 columns):\n",
      " #   Column           Non-Null Count  Dtype \n",
      "---  ------           --------------  ----- \n",
      " 0   Age              32561 non-null  int64 \n",
      " 1   Workclass        32561 non-null  object\n",
      " 2   fnlgwt           32561 non-null  int64 \n",
      " 3   Education        32561 non-null  object\n",
      " 4   Education Num    32561 non-null  int64 \n",
      " 5   Marital Status   32561 non-null  object\n",
      " 6   Occupation       32561 non-null  object\n",
      " 7   Relationship     32561 non-null  object\n",
      " 8   Race             32561 non-null  object\n",
      " 9   Sex              32561 non-null  object\n",
      " 10  Capital Gain     32561 non-null  int64 \n",
      " 11  Capital Loss     32561 non-null  int64 \n",
      " 12  Hours/Week       32561 non-null  int64 \n",
      " 13  Country          32561 non-null  object\n",
      " 14  Above/Below 50k  32561 non-null  object\n",
      "dtypes: int64(6), object(9)\n",
      "memory usage: 3.7+ MB\n"
     ]
    }
   ],
   "source": [
    "import pandas as pd\n",
    "\n",
    "adult = pd.read_csv(\"/home/cyberx/data_camp_courses/datasets/working_with_categorical_data/adult.csv\")\n",
    "\n",
    "adult.info()"
   ]
  },
  {
   "cell_type": "code",
   "execution_count": 3,
   "metadata": {},
   "outputs": [
    {
     "name": "stdout",
     "output_type": "stream",
     "text": [
      "count      32561\n",
      "unique         2\n",
      "top        <=50K\n",
      "freq       24720\n",
      "Name: Above/Below 50k, dtype: object\n"
     ]
    }
   ],
   "source": [
    "# Explore the Above/Below 50k variable\n",
    "print(adult[\"Above/Below 50k\"].describe())"
   ]
  },
  {
   "cell_type": "code",
   "execution_count": 4,
   "metadata": {},
   "outputs": [
    {
     "name": "stdout",
     "output_type": "stream",
     "text": [
      " <=50K    24720\n",
      " >50K      7841\n",
      "Name: Above/Below 50k, dtype: int64\n"
     ]
    }
   ],
   "source": [
    "# Print a frequency table of \"Above/Below 50k\"\n",
    "print(adult[\"Above/Below 50k\"].value_counts())"
   ]
  },
  {
   "cell_type": "code",
   "execution_count": 5,
   "metadata": {},
   "outputs": [
    {
     "name": "stdout",
     "output_type": "stream",
     "text": [
      " <=50K    0.75919\n",
      " >50K     0.24081\n",
      "Name: Above/Below 50k, dtype: float64\n"
     ]
    }
   ],
   "source": [
    "# Print relative frequency values\n",
    "print(adult[\"Above/Below 50k\"].value_counts(normalize=True))"
   ]
  },
  {
   "cell_type": "markdown",
   "metadata": {},
   "source": [
    "**Ordinal categorical variables**\n",
    "\n",
    "Columns regarding a person's income do not have to be numerical. If the income amount is split into distinct categories, the new column will be categorical. Since these categories will have a natural order (smallest income to largest), the variable is considered ordinal.\n",
    "\n",
    "***Answer:***\n",
    "\n",
    "<img src=\"/home/cyberx/data_camp_courses/images/Screenshot 2024-12-03 111257.png\">\n",
    "\n",
    "\n",
    "NOTE: Meskipun opsi berisi angka, opsi tersebut berupa rentang - yang menunjukkan variabel kategoris. Perhatikan bahwa kategori dapat ditempatkan dalam urutan logis, yang menjadikannya variabel ordinal."
   ]
  },
  {
   "cell_type": "markdown",
   "metadata": {},
   "source": [
    "## Categorical data in pandas"
   ]
  },
  {
   "cell_type": "markdown",
   "metadata": {},
   "source": [
    "**Setting dtypes and saving memory**\n",
    "\n",
    "A colleague of yours is exploring a list of occupations and how they relate to salary. She has given you a list of these occupations, list_of_occupations, and has a few simple questions such as \"How many different titles are there?\" and \"Which position is the most common?\"."
   ]
  },
  {
   "cell_type": "code",
   "execution_count": 1,
   "metadata": {},
   "outputs": [
    {
     "name": "stdout",
     "output_type": "stream",
     "text": [
      "<class 'pandas.core.frame.DataFrame'>\n",
      "RangeIndex: 32561 entries, 0 to 32560\n",
      "Data columns (total 15 columns):\n",
      " #   Column           Non-Null Count  Dtype \n",
      "---  ------           --------------  ----- \n",
      " 0   Age              32561 non-null  int64 \n",
      " 1   Workclass        32561 non-null  object\n",
      " 2   fnlgwt           32561 non-null  int64 \n",
      " 3   Education        32561 non-null  object\n",
      " 4   Education Num    32561 non-null  int64 \n",
      " 5   Marital Status   32561 non-null  object\n",
      " 6   Occupation       32561 non-null  object\n",
      " 7   Relationship     32561 non-null  object\n",
      " 8   Race             32561 non-null  object\n",
      " 9   Sex              32561 non-null  object\n",
      " 10  Capital Gain     32561 non-null  int64 \n",
      " 11  Capital Loss     32561 non-null  int64 \n",
      " 12  Hours/Week       32561 non-null  int64 \n",
      " 13  Country          32561 non-null  object\n",
      " 14  Above/Below 50k  32561 non-null  object\n",
      "dtypes: int64(6), object(9)\n",
      "memory usage: 3.7+ MB\n"
     ]
    }
   ],
   "source": [
    "import pandas as pd\n",
    "\n",
    "adult = pd.read_csv(\"/home/cyberx/data_camp_courses/datasets/working_with_categorical_data/adult.csv\")\n",
    "\n",
    "adult.info()"
   ]
  },
  {
   "cell_type": "code",
   "execution_count": 2,
   "metadata": {},
   "outputs": [
    {
     "data": {
      "text/plain": [
       "0          Never-married\n",
       "1     Married-civ-spouse\n",
       "2               Divorced\n",
       "3     Married-civ-spouse\n",
       "4     Married-civ-spouse\n",
       "Name: Marital Status, dtype: object"
      ]
     },
     "execution_count": 2,
     "metadata": {},
     "output_type": "execute_result"
    }
   ],
   "source": [
    "list_of_occupations = adult['Marital Status']\n",
    "\n",
    "list_of_occupations.head()"
   ]
  },
  {
   "cell_type": "code",
   "execution_count": 3,
   "metadata": {},
   "outputs": [
    {
     "name": "stdout",
     "output_type": "stream",
     "text": [
      "series1 data type: object\n",
      "series1 number of bytes: 260488\n"
     ]
    }
   ],
   "source": [
    "# Create a Series, default dtype\n",
    "series1 = pd.Series(list_of_occupations)\n",
    "\n",
    "# Print out the data type and number of bytes for series1\n",
    "print(\"series1 data type:\", series1.dtype)\n",
    "print(\"series1 number of bytes:\", series1.nbytes)"
   ]
  },
  {
   "cell_type": "code",
   "execution_count": 4,
   "metadata": {},
   "outputs": [
    {
     "name": "stdout",
     "output_type": "stream",
     "text": [
      "series2 data type: category\n",
      "series2 number of bytes: 32617\n"
     ]
    }
   ],
   "source": [
    "# Create a Series, \"category\" dtype\n",
    "series2 = pd.Series(list_of_occupations, dtype=\"category\")\n",
    "\n",
    "# Print out the data type and number of bytes for series2\n",
    "print(\"series2 data type:\", series2.dtype)\n",
    "print(\"series2 number of bytes:\", series2.nbytes)"
   ]
  },
  {
   "cell_type": "markdown",
   "metadata": {},
   "source": [
    "**Creating a categorical pandas Series**\n",
    "\n",
    "Another colleague at work has collected information on the number of \"Gold\", \"Silver\", and \"Bronze\" medals won by the USA at the Summer & Winter Olympics since 1896. She has provided this as a list, medals_won. Before taking a look at the total number of each medal won, you want to create a categorical pandas Series. However, you know that these medals have a specific order to them and that Gold is better than Silver, but Silver is better than Bronze. Use the object, medals_won, to help."
   ]
  },
  {
   "cell_type": "code",
   "execution_count": 6,
   "metadata": {},
   "outputs": [
    {
     "data": {
      "text/plain": [
       "CategoricalDtype(categories=[' Divorced', ' Married-AF-spouse', ' Married-civ-spouse',\n",
       "                  ' Married-spouse-absent', ' Never-married', ' Separated',\n",
       "                  ' Widowed'],\n",
       ", ordered=False)"
      ]
     },
     "execution_count": 6,
     "metadata": {},
     "output_type": "execute_result"
    }
   ],
   "source": [
    "series2.dtype"
   ]
  },
  {
   "cell_type": "code",
   "execution_count": 11,
   "metadata": {},
   "outputs": [
    {
     "name": "stdout",
     "output_type": "stream",
     "text": [
      "[' Never-married', ' Married-civ-spouse', ' Divorced', ' Married-civ-spouse', ' Married-civ-spouse', ..., ' Married-civ-spouse', ' Married-civ-spouse', ' Widowed', ' Never-married', ' Married-civ-spouse']\n",
      "Length: 32561\n",
      "Categories (7, object): [' Divorced' < ' Married-AF-spouse' < ' Married-civ-spouse' < ' Married-spouse-absent' < ' Never-married' < ' Separated' < ' Widowed']\n"
     ]
    }
   ],
   "source": [
    "# Create a categorical Series and specify the categories (let pandas know the order matters!)\n",
    "status_married = pd.Categorical(list_of_occupations, categories=[' Divorced', ' Married-AF-spouse', \n",
    "                                                                 ' Married-civ-spouse',' Married-spouse-absent', \n",
    "                                                                 ' Never-married', ' Separated',' Widowed'], ordered=True)\n",
    "print(status_married)"
   ]
  },
  {
   "cell_type": "markdown",
   "metadata": {},
   "source": [
    "**Setting dtype when reading data**\n",
    "\n",
    "You are preparing to create a machine learning model to predict a person's income category using the adult census income dataset. You don't have access to any cloud resources and you want to make sure that your laptop will be able to load the full dataset and process its contents. You have read in the first five rows of the dataset adult to help you understand what kind of columns are available."
   ]
  },
  {
   "cell_type": "code",
   "execution_count": 14,
   "metadata": {},
   "outputs": [],
   "source": [
    "import pandas as pd\n",
    "\n",
    "adult = pd.read_csv('/home/cyberx/data_camp_courses/datasets/working_with_categorical_data/adult.csv')"
   ]
  },
  {
   "cell_type": "code",
   "execution_count": 13,
   "metadata": {},
   "outputs": [
    {
     "name": "stdout",
     "output_type": "stream",
     "text": [
      "Age                 int64\n",
      "Workclass          object\n",
      "fnlgwt              int64\n",
      "Education          object\n",
      "Education Num       int64\n",
      "Marital Status     object\n",
      "Occupation         object\n",
      "Relationship       object\n",
      "Race               object\n",
      "Sex                object\n",
      "Capital Gain        int64\n",
      "Capital Loss        int64\n",
      "Hours/Week          int64\n",
      "Country            object\n",
      "Above/Below 50k    object\n",
      "dtype: object\n"
     ]
    }
   ],
   "source": [
    "# Check the dtypes\n",
    "print(adult.dtypes)"
   ]
  },
  {
   "cell_type": "code",
   "execution_count": 15,
   "metadata": {},
   "outputs": [],
   "source": [
    "# Create a dictionary with column names as keys and \"category\" as values\n",
    "adult_dtypes = {\n",
    "   \"Workclass\": \"category\",\n",
    "   \"Education\": \"category\",\n",
    "   \"Relationship\": \"category\",\n",
    "   \"Above/Below 50k\": \"category\" \n",
    "}"
   ]
  },
  {
   "cell_type": "code",
   "execution_count": 17,
   "metadata": {},
   "outputs": [
    {
     "name": "stdout",
     "output_type": "stream",
     "text": [
      "Age                   int64\n",
      "Workclass          category\n",
      "fnlgwt                int64\n",
      "Education          category\n",
      "Education Num         int64\n",
      "Marital Status       object\n",
      "Occupation           object\n",
      "Relationship       category\n",
      "Race                 object\n",
      "Sex                  object\n",
      "Capital Gain          int64\n",
      "Capital Loss          int64\n",
      "Hours/Week            int64\n",
      "Country              object\n",
      "Above/Below 50k    category\n",
      "dtype: object\n"
     ]
    }
   ],
   "source": [
    "# Read in the CSV using the dtypes parameter\n",
    "adult2 = pd.read_csv(\"/home/cyberx/data_camp_courses/datasets/working_with_categorical_data/adult.csv\", dtype=adult_dtypes)\n",
    "\n",
    "print(adult2.dtypes)"
   ]
  },
  {
   "cell_type": "markdown",
   "metadata": {},
   "source": [
    "## Grouping data by category in pandas"
   ]
  },
  {
   "cell_type": "markdown",
   "metadata": {},
   "source": [
    "**Create lots of groups**\n",
    "\n",
    "You want to find the mean Age of adults when grouping by the following categories:\n",
    "\n",
    "- \"Workclass\" (which has 9 categories)\n",
    "- \"Above/Below 50k\" (which has 2 categories)\n",
    "- \"Education\" (which has 16 categories).\n",
    "\n",
    "You have developed the following bit of code:\n",
    "```\n",
    "gb = adult.groupby(by=[ \"Workclass\",\n",
    "                        \"Above/Below 50k\", \n",
    "                        \"Education\"])\n",
    "```\n",
    "How many groups are in the gb object and what is the maximum possible number of groups that could have been created? The dataset adult, and the gb object have been preloaded for you."
   ]
  },
  {
   "cell_type": "code",
   "execution_count": 18,
   "metadata": {},
   "outputs": [],
   "source": [
    "import pandas as pd\n",
    "\n",
    "adult = pd.read_csv(\"/home/cyberx/data_camp_courses/datasets/working_with_categorical_data/adult.csv\")"
   ]
  },
  {
   "cell_type": "code",
   "execution_count": 19,
   "metadata": {},
   "outputs": [],
   "source": [
    "gb = adult.groupby(by=[ \"Workclass\",\n",
    "                        \"Above/Below 50k\", \n",
    "                        \"Education\"])"
   ]
  },
  {
   "cell_type": "code",
   "execution_count": 20,
   "metadata": {},
   "outputs": [
    {
     "name": "stdout",
     "output_type": "stream",
     "text": [
      "Workclass     Above/Below 50k  Education    \n",
      " ?             <=50K            10th             98\n",
      "                                11th            118\n",
      "                                12th             38\n",
      "                                1st-4th          12\n",
      "                                5th-6th          28\n",
      "                                               ... \n",
      " State-gov     >50K             Some-college     31\n",
      " Without-pay   <=50K            7th-8th           1\n",
      "                                Assoc-acdm        1\n",
      "                                HS-grad           9\n",
      "                                Some-college      3\n",
      "Length: 208, dtype: int64\n"
     ]
    },
    {
     "data": {
      "text/plain": [
       "' \\nOnly combinations of the three variables that exist are created when using groupby(). \\nIn this example, 208 groups are created out of 288 (2 * 9 * 16) possible groups.\\n'"
      ]
     },
     "execution_count": 20,
     "metadata": {},
     "output_type": "execute_result"
    }
   ],
   "source": [
    "print(gb.size())\n",
    "\n",
    "''' \n",
    "Only combinations of the three variables that exist are created when using groupby(). \n",
    "In this example, 208 groups are created out of 288 (2 * 9 * 16) possible groups.\n",
    "'''"
   ]
  },
  {
   "cell_type": "markdown",
   "metadata": {},
   "source": [
    "**Setting up a .groupby() statement**\n",
    "\n",
    "The gender wage gap is a hot-topic item in the United States and across the world. Using the adult census income dataset, loaded as adult, you want to check if some of the recently published data lines up with this income survey."
   ]
  },
  {
   "cell_type": "code",
   "execution_count": 24,
   "metadata": {},
   "outputs": [
    {
     "name": "stdout",
     "output_type": "stream",
     "text": [
      "<class 'pandas.core.frame.DataFrame'>\n",
      "RangeIndex: 32561 entries, 0 to 32560\n",
      "Data columns (total 15 columns):\n",
      " #   Column           Non-Null Count  Dtype \n",
      "---  ------           --------------  ----- \n",
      " 0   Age              32561 non-null  int64 \n",
      " 1   Workclass        32561 non-null  object\n",
      " 2   fnlgwt           32561 non-null  int64 \n",
      " 3   Education        32561 non-null  object\n",
      " 4   Education Num    32561 non-null  int64 \n",
      " 5   Marital Status   32561 non-null  object\n",
      " 6   Occupation       32561 non-null  object\n",
      " 7   Relationship     32561 non-null  object\n",
      " 8   Race             32561 non-null  object\n",
      " 9   Sex              32561 non-null  object\n",
      " 10  Capital Gain     32561 non-null  int64 \n",
      " 11  Capital Loss     32561 non-null  int64 \n",
      " 12  Hours/Week       32561 non-null  int64 \n",
      " 13  Country          32561 non-null  object\n",
      " 14  Above/Below 50k  32561 non-null  object\n",
      "dtypes: int64(6), object(9)\n",
      "memory usage: 3.7+ MB\n"
     ]
    }
   ],
   "source": [
    "import pandas as pd\n",
    "\n",
    "adult = pd.read_csv(\"/home/cyberx/data_camp_courses/datasets/working_with_categorical_data/adult.csv\")\n",
    "\n",
    "adult.info()"
   ]
  },
  {
   "cell_type": "code",
   "execution_count": 26,
   "metadata": {},
   "outputs": [
    {
     "name": "stdout",
     "output_type": "stream",
     "text": [
      "Sex      Above/Below 50k\n",
      " Female   <=50K              9592\n",
      "          >50K               1179\n",
      " Male     <=50K             15128\n",
      "          >50K               6662\n",
      "dtype: int64\n"
     ]
    }
   ],
   "source": [
    "# Group the adult dataset by \"Sex\" and \"Above/Below 50k\"\n",
    "gb = adult.groupby(by=[\"Sex\",\n",
    "                       \"Above/Below 50k\"])\n",
    "\n",
    "# Print out how many rows are in each created group\n",
    "print(gb.size())"
   ]
  },
  {
   "cell_type": "code",
   "execution_count": 27,
   "metadata": {},
   "outputs": [
    {
     "name": "stdout",
     "output_type": "stream",
     "text": [
      "                               Age         fnlgwt  Education Num  \\\n",
      "Sex     Above/Below 50k                                            \n",
      " Female  <=50K           36.210801  185999.381359       9.820475   \n",
      "         >50K            42.125530  183687.406277      11.787108   \n",
      " Male    <=50K           37.147012  193093.609268       9.452142   \n",
      "         >50K            44.625788  188769.101321      11.580606   \n",
      "\n",
      "                         Capital Gain  Capital Loss  Hours/Week  \n",
      "Sex     Above/Below 50k                                          \n",
      " Female  <=50K             121.986134     47.364470   35.916701  \n",
      "         >50K             4200.389313    173.648855   40.426633  \n",
      " Male    <=50K             165.723823     56.806782   40.693879  \n",
      "         >50K             3971.765836    198.780396   46.366106  \n"
     ]
    }
   ],
   "source": [
    "# Print out the mean of each group for all columns\n",
    "print(gb.mean())"
   ]
  },
  {
   "cell_type": "code",
   "execution_count": null,
   "metadata": {},
   "outputs": [],
   "source": [
    "''' \n",
    "Memang terlihat bahwa proporsi wanita yang berpenghasilan lebih dari 50 ribu dolar AS \n",
    "jauh lebih rendah dari pada pria. \n",
    "Namun, wanita yang berpenghasilan lebih dari 50 ribu dolar AS \n",
    "rata-rata lebih muda daripada rekan pria mereka.\n",
    "'''"
   ]
  },
  {
   "cell_type": "markdown",
   "metadata": {},
   "source": [
    "**Using pandas functions effectively**\n",
    "\n",
    "You are creating a Python application that will calculate summary statistics based on user-selected variables. The complete dataset is quite large. For now, you are setting up your code using part of the dataset, preloaded as adult. As you create a reusable process, make sure you are thinking through the most efficient way to setup the GroupBy object."
   ]
  },
  {
   "cell_type": "code",
   "execution_count": 28,
   "metadata": {},
   "outputs": [
    {
     "name": "stdout",
     "output_type": "stream",
     "text": [
      "Education      Above/Below 50k\n",
      " 10th           <=50K             36.574053\n",
      "                >50K              43.774194\n",
      " 11th           <=50K             33.322870\n",
      "                >50K              45.133333\n",
      " 12th           <=50K             35.035000\n",
      "                >50K              44.818182\n",
      " 1st-4th        <=50K             37.864198\n",
      "                >50K              48.833333\n",
      " 5th-6th        <=50K             38.539432\n",
      "                >50K              46.000000\n",
      " 7th-8th        <=50K             38.830033\n",
      "                >50K              47.500000\n",
      " 9th            <=50K             37.667351\n",
      "                >50K              44.851852\n",
      " Assoc-acdm     <=50K             39.264339\n",
      "                >50K              44.256604\n",
      " Assoc-voc      <=50K             40.817826\n",
      "                >50K              43.853186\n",
      " Bachelors      <=50K             40.586152\n",
      "                >50K              45.475462\n",
      " Doctorate      <=50K             45.429907\n",
      "                >50K              47.513072\n",
      " HS-grad        <=50K             39.727510\n",
      "                >50K              45.042985\n",
      " Masters        <=50K             41.223822\n",
      "                >50K              45.917623\n",
      " Preschool      <=50K             36.647059\n",
      " Prof-school    <=50K             42.816993\n",
      "                >50K              49.092199\n",
      " Some-college   <=50K             37.450203\n",
      "                >50K              44.820476\n",
      "Name: Hours/Week, dtype: float64\n"
     ]
    }
   ],
   "source": [
    "# Create a list of user-selected variables\n",
    "user_list = [\"Education\", \"Above/Below 50k\"]\n",
    "\n",
    "# Create a GroupBy object using this list\n",
    "gb = adult.groupby(by=user_list)\n",
    "\n",
    "# Find the mean for the variable \"Hours/Week\" for each group - Be efficient!\n",
    "print(gb[\"Hours/Week\"].mean())"
   ]
  },
  {
   "cell_type": "code",
   "execution_count": null,
   "metadata": {},
   "outputs": [],
   "source": [
    "''' \n",
    "Orang yang berpenghasilan lebih dari $50.000 cenderung bekerja lebih lama, \n",
    "terlepas dari pendidikan mereka, daripada orang yang berpenghasilan kurang dari $50.000. \n",
    "\n",
    "Ingat, penting untuk memilih variabel sebelum memanggil fungsi. \n",
    "Kumpulan data yang besar mungkin mengalami masalah dalam menghitung rata-rata setiap kolom numerik.\n",
    "'''"
   ]
  },
  {
   "cell_type": "markdown",
   "metadata": {},
   "source": [
    "# 2) Categorical pandas Series"
   ]
  },
  {
   "cell_type": "markdown",
   "metadata": {},
   "source": [
    "## Setting category variables"
   ]
  },
  {
   "cell_type": "markdown",
   "metadata": {},
   "source": [
    "**Setting categories**\n",
    "\n",
    "After exploring the pandas Series \"size\" from the adoptable dogs dataset, you have decided that it should be an ordinal categorical variable. Creating such a variable takes a few steps. If these steps are performed out of order, you may not be able to access or use the necessary methods. The goal is to convert the \"size\" column from the dogs dataset into a ordered categorical pandas Series with the following categories: [\"small\", \"medium\", \"large\"].\n",
    "\n",
    "\n",
    "***Answer:***\n",
    "\n",
    "<img src=\"/home/cyberx/data_camp_courses/images/Screenshot 2024-12-05 072306.png\">"
   ]
  },
  {
   "cell_type": "markdown",
   "metadata": {},
   "source": [
    "**Adding categories**\n",
    "\n",
    "The owner of a local dog adoption agency has listings for almost 3,000 dogs. One of the most common questions they have been receiving lately is: \"What type of area was the dog previously kept in?\". You are setting up a pipeline to do some analysis and want to look into what information is available regarding the \"keep_in\" variable. Both pandas, as pd, and the dogs dataset have been preloaded."
   ]
  },
  {
   "cell_type": "code",
   "execution_count": 1,
   "metadata": {},
   "outputs": [
    {
     "data": {
      "text/html": [
       "<div>\n",
       "<style scoped>\n",
       "    .dataframe tbody tr th:only-of-type {\n",
       "        vertical-align: middle;\n",
       "    }\n",
       "\n",
       "    .dataframe tbody tr th {\n",
       "        vertical-align: top;\n",
       "    }\n",
       "\n",
       "    .dataframe thead th {\n",
       "        text-align: right;\n",
       "    }\n",
       "</style>\n",
       "<table border=\"1\" class=\"dataframe\">\n",
       "  <thead>\n",
       "    <tr style=\"text-align: right;\">\n",
       "      <th></th>\n",
       "      <th>ID</th>\n",
       "      <th>name</th>\n",
       "      <th>age</th>\n",
       "      <th>sex</th>\n",
       "      <th>breed</th>\n",
       "      <th>date_found</th>\n",
       "      <th>adoptable_from</th>\n",
       "      <th>posted</th>\n",
       "      <th>color</th>\n",
       "      <th>coat</th>\n",
       "      <th>size</th>\n",
       "      <th>neutered</th>\n",
       "      <th>housebroken</th>\n",
       "      <th>likes_people</th>\n",
       "      <th>likes_children</th>\n",
       "      <th>get_along_males</th>\n",
       "      <th>get_along_females</th>\n",
       "      <th>get_along_cats</th>\n",
       "      <th>keep_in</th>\n",
       "    </tr>\n",
       "  </thead>\n",
       "  <tbody>\n",
       "    <tr>\n",
       "      <th>0</th>\n",
       "      <td>23807</td>\n",
       "      <td>Gida</td>\n",
       "      <td>0.25</td>\n",
       "      <td>female</td>\n",
       "      <td>Unknown Mix</td>\n",
       "      <td>12/10/19</td>\n",
       "      <td>12/11/19</td>\n",
       "      <td>12/11/19</td>\n",
       "      <td>red</td>\n",
       "      <td>short</td>\n",
       "      <td>small</td>\n",
       "      <td>no</td>\n",
       "      <td>NaN</td>\n",
       "      <td>NaN</td>\n",
       "      <td>NaN</td>\n",
       "      <td>NaN</td>\n",
       "      <td>NaN</td>\n",
       "      <td>NaN</td>\n",
       "      <td>NaN</td>\n",
       "    </tr>\n",
       "    <tr>\n",
       "      <th>1</th>\n",
       "      <td>533</td>\n",
       "      <td>Frida És Ricsi</td>\n",
       "      <td>0.17</td>\n",
       "      <td>female</td>\n",
       "      <td>Unknown Mix</td>\n",
       "      <td>12/1/19</td>\n",
       "      <td>12/1/19</td>\n",
       "      <td>12/9/19</td>\n",
       "      <td>black and white</td>\n",
       "      <td>short</td>\n",
       "      <td>small</td>\n",
       "      <td>no</td>\n",
       "      <td>NaN</td>\n",
       "      <td>yes</td>\n",
       "      <td>yes</td>\n",
       "      <td>yes</td>\n",
       "      <td>yes</td>\n",
       "      <td>yes</td>\n",
       "      <td>NaN</td>\n",
       "    </tr>\n",
       "    <tr>\n",
       "      <th>2</th>\n",
       "      <td>23793</td>\n",
       "      <td>NaN</td>\n",
       "      <td>4.00</td>\n",
       "      <td>male</td>\n",
       "      <td>Unknown Mix</td>\n",
       "      <td>12/8/19</td>\n",
       "      <td>12/23/19</td>\n",
       "      <td>12/8/19</td>\n",
       "      <td>saddle back</td>\n",
       "      <td>short</td>\n",
       "      <td>medium</td>\n",
       "      <td>no</td>\n",
       "      <td>NaN</td>\n",
       "      <td>NaN</td>\n",
       "      <td>NaN</td>\n",
       "      <td>NaN</td>\n",
       "      <td>NaN</td>\n",
       "      <td>NaN</td>\n",
       "      <td>NaN</td>\n",
       "    </tr>\n",
       "    <tr>\n",
       "      <th>3</th>\n",
       "      <td>23795</td>\n",
       "      <td>NaN</td>\n",
       "      <td>1.00</td>\n",
       "      <td>male</td>\n",
       "      <td>Unknown Mix</td>\n",
       "      <td>12/8/19</td>\n",
       "      <td>12/23/19</td>\n",
       "      <td>12/8/19</td>\n",
       "      <td>yellow-brown</td>\n",
       "      <td>medium</td>\n",
       "      <td>medium</td>\n",
       "      <td>no</td>\n",
       "      <td>NaN</td>\n",
       "      <td>NaN</td>\n",
       "      <td>NaN</td>\n",
       "      <td>NaN</td>\n",
       "      <td>NaN</td>\n",
       "      <td>NaN</td>\n",
       "      <td>NaN</td>\n",
       "    </tr>\n",
       "    <tr>\n",
       "      <th>4</th>\n",
       "      <td>23806</td>\n",
       "      <td>Amy</td>\n",
       "      <td>2.00</td>\n",
       "      <td>female</td>\n",
       "      <td>French Bulldog Mix</td>\n",
       "      <td>12/10/19</td>\n",
       "      <td>12/11/19</td>\n",
       "      <td>12/11/19</td>\n",
       "      <td>black</td>\n",
       "      <td>short</td>\n",
       "      <td>small</td>\n",
       "      <td>no</td>\n",
       "      <td>NaN</td>\n",
       "      <td>NaN</td>\n",
       "      <td>NaN</td>\n",
       "      <td>NaN</td>\n",
       "      <td>NaN</td>\n",
       "      <td>NaN</td>\n",
       "      <td>NaN</td>\n",
       "    </tr>\n",
       "  </tbody>\n",
       "</table>\n",
       "</div>"
      ],
      "text/plain": [
       "      ID            name   age     sex               breed date_found  \\\n",
       "0  23807            Gida  0.25  female         Unknown Mix   12/10/19   \n",
       "1    533  Frida És Ricsi  0.17  female         Unknown Mix    12/1/19   \n",
       "2  23793             NaN  4.00    male         Unknown Mix    12/8/19   \n",
       "3  23795             NaN  1.00    male         Unknown Mix    12/8/19   \n",
       "4  23806             Amy  2.00  female  French Bulldog Mix   12/10/19   \n",
       "\n",
       "  adoptable_from    posted            color    coat    size neutered  \\\n",
       "0       12/11/19  12/11/19              red   short   small       no   \n",
       "1        12/1/19   12/9/19  black and white   short   small       no   \n",
       "2       12/23/19   12/8/19      saddle back   short  medium       no   \n",
       "3       12/23/19   12/8/19     yellow-brown  medium  medium       no   \n",
       "4       12/11/19  12/11/19            black   short   small       no   \n",
       "\n",
       "  housebroken likes_people likes_children get_along_males get_along_females  \\\n",
       "0         NaN          NaN            NaN             NaN               NaN   \n",
       "1         NaN          yes            yes             yes               yes   \n",
       "2         NaN          NaN            NaN             NaN               NaN   \n",
       "3         NaN          NaN            NaN             NaN               NaN   \n",
       "4         NaN          NaN            NaN             NaN               NaN   \n",
       "\n",
       "  get_along_cats keep_in  \n",
       "0            NaN     NaN  \n",
       "1            yes     NaN  \n",
       "2            NaN     NaN  \n",
       "3            NaN     NaN  \n",
       "4            NaN     NaN  "
      ]
     },
     "execution_count": 1,
     "metadata": {},
     "output_type": "execute_result"
    }
   ],
   "source": [
    "import pandas as pd\n",
    "\n",
    "dogs = pd.read_csv(\"/home/cyberx/data_camp_courses/datasets/working_with_categorical_data/ShelterDogs.csv\")\n",
    "\n",
    "dogs.head()"
   ]
  },
  {
   "cell_type": "code",
   "execution_count": 2,
   "metadata": {},
   "outputs": [
    {
     "name": "stdout",
     "output_type": "stream",
     "text": [
      "both flat and garden    1224\n",
      "NaN                     1021\n",
      "garden                   510\n",
      "flat                     182\n",
      "Name: keep_in, dtype: int64\n"
     ]
    }
   ],
   "source": [
    "# Check frequency counts while also printing the NaN count\n",
    "print(dogs[\"keep_in\"].value_counts(dropna=False))"
   ]
  },
  {
   "cell_type": "code",
   "execution_count": 3,
   "metadata": {},
   "outputs": [
    {
     "name": "stdout",
     "output_type": "stream",
     "text": [
      "both flat and garden       1224\n",
      "NaN                        1021\n",
      "garden                      510\n",
      "flat                        182\n",
      "Unknown History               0\n",
      "Open Yard (Countryside)       0\n",
      "Name: keep_in, dtype: int64\n"
     ]
    }
   ],
   "source": [
    "# Switch to a categorical variable\n",
    "dogs[\"keep_in\"] = dogs[\"keep_in\"].astype(\"category\")\n",
    "\n",
    "# Add new categories\n",
    "new_categories = [\"Unknown History\", \"Open Yard (Countryside)\"]\n",
    "dogs[\"keep_in\"] = dogs[\"keep_in\"].cat.add_categories(new_categories)\n",
    "\n",
    "# Check frequency counts one more time\n",
    "print(dogs[\"keep_in\"].value_counts(dropna=False))"
   ]
  },
  {
   "cell_type": "markdown",
   "metadata": {},
   "source": [
    "**Removing categories**\n",
    "\n",
    "Before adopting dogs, parents might want to know whether or not a new dog likes children. When looking at the adoptable dogs dataset, dogs, you notice that the frequency of responses for the categorical Series \"likes_children\" looks like this:\n",
    "```\n",
    "maybe     1718\n",
    "yes       1172\n",
    "no          47\n",
    "```\n",
    "The owner of the data wants to convert all \"maybe\" responses to \"no\", as it would be unsafe to let a family adapt a dog if it doesn't like children. The code to convert all \"maybe\" to \"no\" is provided in Step 1. However, the option for \"maybe\" still remains as a category."
   ]
  },
  {
   "cell_type": "code",
   "execution_count": 2,
   "metadata": {},
   "outputs": [
    {
     "data": {
      "text/plain": [
       "0    maybe\n",
       "1      yes\n",
       "2    maybe\n",
       "3    maybe\n",
       "4    maybe\n",
       "Name: likes_children, dtype: object"
      ]
     },
     "execution_count": 2,
     "metadata": {},
     "output_type": "execute_result"
    }
   ],
   "source": [
    "import numpy as np\n",
    "\n",
    "dogs[\"likes_children\"] = dogs[\"likes_children\"].replace(np.nan, 'maybe', regex = True)\n",
    "\n",
    "dogs[\"likes_children\"].head()"
   ]
  },
  {
   "cell_type": "code",
   "execution_count": 3,
   "metadata": {},
   "outputs": [
    {
     "name": "stdout",
     "output_type": "stream",
     "text": [
      "maybe    1718\n",
      "yes      1172\n",
      "no         47\n",
      "Name: likes_children, dtype: int64\n"
     ]
    }
   ],
   "source": [
    "# Print the frequency table\n",
    "print(dogs[\"likes_children\"].value_counts(dropna=False))"
   ]
  },
  {
   "cell_type": "code",
   "execution_count": 4,
   "metadata": {},
   "outputs": [
    {
     "name": "stdout",
     "output_type": "stream",
     "text": [
      "Index(['maybe', 'no', 'yes'], dtype='object')\n"
     ]
    }
   ],
   "source": [
    "# Change to category\n",
    "dogs[\"likes_children\"] = dogs[\"likes_children\"].astype(\"category\")\n",
    "\n",
    "# Set \"maybe\" to be \"no\"\n",
    "dogs.loc[dogs[\"likes_children\"] == \"maybe\", \"likes_children\"] = \"no\"\n",
    "\n",
    "# Print out categories\n",
    "print(dogs[\"likes_children\"].cat.categories)"
   ]
  },
  {
   "cell_type": "code",
   "execution_count": 5,
   "metadata": {},
   "outputs": [
    {
     "name": "stdout",
     "output_type": "stream",
     "text": [
      "no       1765\n",
      "yes      1172\n",
      "maybe       0\n",
      "Name: likes_children, dtype: int64\n"
     ]
    }
   ],
   "source": [
    "# Print the frequency table\n",
    "print(dogs[\"likes_children\"].value_counts())"
   ]
  },
  {
   "cell_type": "code",
   "execution_count": 6,
   "metadata": {},
   "outputs": [
    {
     "name": "stdout",
     "output_type": "stream",
     "text": [
      "no     1765\n",
      "yes    1172\n",
      "Name: likes_children, dtype: int64\n"
     ]
    }
   ],
   "source": [
    "# Remove the `\"maybe\" category\n",
    "dogs[\"likes_children\"] = dogs[\"likes_children\"].cat.remove_categories([\"maybe\"])\n",
    "print(dogs[\"likes_children\"].value_counts())"
   ]
  },
  {
   "cell_type": "code",
   "execution_count": 7,
   "metadata": {},
   "outputs": [
    {
     "name": "stdout",
     "output_type": "stream",
     "text": [
      "Index(['no', 'yes'], dtype='object')\n"
     ]
    }
   ],
   "source": [
    "# Print the categories one more time\n",
    "print(dogs[\"likes_children\"].cat.categories)"
   ]
  },
  {
   "cell_type": "markdown",
   "metadata": {},
   "source": [
    "## Updating categories"
   ]
  },
  {
   "cell_type": "markdown",
   "metadata": {},
   "source": [
    "**Collapsing categories knowledge check**\n",
    "\n",
    "You are working with a categorical column that has ten different responses. You want to collapse this into a new categorical column that only has three categories, instead of ten. What is the easiest method to use for this update?\n",
    "\n",
    "***Answer:***\n",
    "\n",
    "```Use pd.Series().replace() and then convert the column back to categorical using .astype('category').```"
   ]
  },
  {
   "cell_type": "code",
   "execution_count": null,
   "metadata": {},
   "outputs": [],
   "source": [
    "\"\"\" \n",
    "Jika Anda perlu meruntuhkan kategori, metode .replace() cepat dan mudah, \n",
    "tetapi Anda perlu mengubah kolom kembali menjadi kategoris.\n",
    "\"\"\""
   ]
  },
  {
   "cell_type": "markdown",
   "metadata": {},
   "source": [
    "**Renaming categories**\n",
    "\n",
    "The likes_children column of the adoptable dogs dataset needs an update. Here are the current frequency counts:\n",
    "```\n",
    "Maybe?    1718\n",
    "yes       1172\n",
    "no          47\n",
    "```\n",
    "Two things that stick out are the differences in capitalization and the ? found in the Maybe? category. The data should be cleaner than this and you are being asked to make a few changes."
   ]
  },
  {
   "cell_type": "code",
   "execution_count": 1,
   "metadata": {},
   "outputs": [
    {
     "data": {
      "text/html": [
       "<div>\n",
       "<style scoped>\n",
       "    .dataframe tbody tr th:only-of-type {\n",
       "        vertical-align: middle;\n",
       "    }\n",
       "\n",
       "    .dataframe tbody tr th {\n",
       "        vertical-align: top;\n",
       "    }\n",
       "\n",
       "    .dataframe thead th {\n",
       "        text-align: right;\n",
       "    }\n",
       "</style>\n",
       "<table border=\"1\" class=\"dataframe\">\n",
       "  <thead>\n",
       "    <tr style=\"text-align: right;\">\n",
       "      <th></th>\n",
       "      <th>ID</th>\n",
       "      <th>name</th>\n",
       "      <th>age</th>\n",
       "      <th>sex</th>\n",
       "      <th>breed</th>\n",
       "      <th>date_found</th>\n",
       "      <th>adoptable_from</th>\n",
       "      <th>posted</th>\n",
       "      <th>color</th>\n",
       "      <th>coat</th>\n",
       "      <th>size</th>\n",
       "      <th>neutered</th>\n",
       "      <th>housebroken</th>\n",
       "      <th>likes_people</th>\n",
       "      <th>likes_children</th>\n",
       "      <th>get_along_males</th>\n",
       "      <th>get_along_females</th>\n",
       "      <th>get_along_cats</th>\n",
       "      <th>keep_in</th>\n",
       "    </tr>\n",
       "  </thead>\n",
       "  <tbody>\n",
       "    <tr>\n",
       "      <th>0</th>\n",
       "      <td>23807</td>\n",
       "      <td>Gida</td>\n",
       "      <td>0.25</td>\n",
       "      <td>female</td>\n",
       "      <td>Unknown Mix</td>\n",
       "      <td>12/10/19</td>\n",
       "      <td>12/11/19</td>\n",
       "      <td>12/11/19</td>\n",
       "      <td>red</td>\n",
       "      <td>short</td>\n",
       "      <td>small</td>\n",
       "      <td>no</td>\n",
       "      <td>NaN</td>\n",
       "      <td>NaN</td>\n",
       "      <td>NaN</td>\n",
       "      <td>NaN</td>\n",
       "      <td>NaN</td>\n",
       "      <td>NaN</td>\n",
       "      <td>NaN</td>\n",
       "    </tr>\n",
       "    <tr>\n",
       "      <th>1</th>\n",
       "      <td>533</td>\n",
       "      <td>Frida És Ricsi</td>\n",
       "      <td>0.17</td>\n",
       "      <td>female</td>\n",
       "      <td>Unknown Mix</td>\n",
       "      <td>12/1/19</td>\n",
       "      <td>12/1/19</td>\n",
       "      <td>12/9/19</td>\n",
       "      <td>black and white</td>\n",
       "      <td>short</td>\n",
       "      <td>small</td>\n",
       "      <td>no</td>\n",
       "      <td>NaN</td>\n",
       "      <td>yes</td>\n",
       "      <td>yes</td>\n",
       "      <td>yes</td>\n",
       "      <td>yes</td>\n",
       "      <td>yes</td>\n",
       "      <td>NaN</td>\n",
       "    </tr>\n",
       "    <tr>\n",
       "      <th>2</th>\n",
       "      <td>23793</td>\n",
       "      <td>NaN</td>\n",
       "      <td>4.00</td>\n",
       "      <td>male</td>\n",
       "      <td>Unknown Mix</td>\n",
       "      <td>12/8/19</td>\n",
       "      <td>12/23/19</td>\n",
       "      <td>12/8/19</td>\n",
       "      <td>saddle back</td>\n",
       "      <td>short</td>\n",
       "      <td>medium</td>\n",
       "      <td>no</td>\n",
       "      <td>NaN</td>\n",
       "      <td>NaN</td>\n",
       "      <td>NaN</td>\n",
       "      <td>NaN</td>\n",
       "      <td>NaN</td>\n",
       "      <td>NaN</td>\n",
       "      <td>NaN</td>\n",
       "    </tr>\n",
       "    <tr>\n",
       "      <th>3</th>\n",
       "      <td>23795</td>\n",
       "      <td>NaN</td>\n",
       "      <td>1.00</td>\n",
       "      <td>male</td>\n",
       "      <td>Unknown Mix</td>\n",
       "      <td>12/8/19</td>\n",
       "      <td>12/23/19</td>\n",
       "      <td>12/8/19</td>\n",
       "      <td>yellow-brown</td>\n",
       "      <td>medium</td>\n",
       "      <td>medium</td>\n",
       "      <td>no</td>\n",
       "      <td>NaN</td>\n",
       "      <td>NaN</td>\n",
       "      <td>NaN</td>\n",
       "      <td>NaN</td>\n",
       "      <td>NaN</td>\n",
       "      <td>NaN</td>\n",
       "      <td>NaN</td>\n",
       "    </tr>\n",
       "    <tr>\n",
       "      <th>4</th>\n",
       "      <td>23806</td>\n",
       "      <td>Amy</td>\n",
       "      <td>2.00</td>\n",
       "      <td>female</td>\n",
       "      <td>French Bulldog Mix</td>\n",
       "      <td>12/10/19</td>\n",
       "      <td>12/11/19</td>\n",
       "      <td>12/11/19</td>\n",
       "      <td>black</td>\n",
       "      <td>short</td>\n",
       "      <td>small</td>\n",
       "      <td>no</td>\n",
       "      <td>NaN</td>\n",
       "      <td>NaN</td>\n",
       "      <td>NaN</td>\n",
       "      <td>NaN</td>\n",
       "      <td>NaN</td>\n",
       "      <td>NaN</td>\n",
       "      <td>NaN</td>\n",
       "    </tr>\n",
       "  </tbody>\n",
       "</table>\n",
       "</div>"
      ],
      "text/plain": [
       "      ID            name   age     sex               breed date_found  \\\n",
       "0  23807            Gida  0.25  female         Unknown Mix   12/10/19   \n",
       "1    533  Frida És Ricsi  0.17  female         Unknown Mix    12/1/19   \n",
       "2  23793             NaN  4.00    male         Unknown Mix    12/8/19   \n",
       "3  23795             NaN  1.00    male         Unknown Mix    12/8/19   \n",
       "4  23806             Amy  2.00  female  French Bulldog Mix   12/10/19   \n",
       "\n",
       "  adoptable_from    posted            color    coat    size neutered  \\\n",
       "0       12/11/19  12/11/19              red   short   small       no   \n",
       "1        12/1/19   12/9/19  black and white   short   small       no   \n",
       "2       12/23/19   12/8/19      saddle back   short  medium       no   \n",
       "3       12/23/19   12/8/19     yellow-brown  medium  medium       no   \n",
       "4       12/11/19  12/11/19            black   short   small       no   \n",
       "\n",
       "  housebroken likes_people likes_children get_along_males get_along_females  \\\n",
       "0         NaN          NaN            NaN             NaN               NaN   \n",
       "1         NaN          yes            yes             yes               yes   \n",
       "2         NaN          NaN            NaN             NaN               NaN   \n",
       "3         NaN          NaN            NaN             NaN               NaN   \n",
       "4         NaN          NaN            NaN             NaN               NaN   \n",
       "\n",
       "  get_along_cats keep_in  \n",
       "0            NaN     NaN  \n",
       "1            yes     NaN  \n",
       "2            NaN     NaN  \n",
       "3            NaN     NaN  \n",
       "4            NaN     NaN  "
      ]
     },
     "execution_count": 1,
     "metadata": {},
     "output_type": "execute_result"
    }
   ],
   "source": [
    "import pandas as pd\n",
    "\n",
    "dogs = pd.read_csv(\"/home/cyberx/data_camp_courses/datasets/working_with_categorical_data/ShelterDogs.csv\")\n",
    "\n",
    "dogs.head()"
   ]
  },
  {
   "cell_type": "code",
   "execution_count": 2,
   "metadata": {},
   "outputs": [
    {
     "name": "stdout",
     "output_type": "stream",
     "text": [
      "0    Maybe?\n",
      "1       yes\n",
      "2    Maybe?\n",
      "3    Maybe?\n",
      "4    Maybe?\n",
      "Name: likes_children, dtype: object\n"
     ]
    }
   ],
   "source": [
    "import numpy as np\n",
    "\n",
    "# replace NaN to Maybe?\n",
    "dogs[\"likes_children\"] = dogs[\"likes_children\"].replace(np.nan, 'Maybe?', regex = True)\n",
    "\n",
    "print(dogs[\"likes_children\"].head())"
   ]
  },
  {
   "cell_type": "code",
   "execution_count": 3,
   "metadata": {},
   "outputs": [
    {
     "name": "stdout",
     "output_type": "stream",
     "text": [
      "Index(['MAYBE', 'NO', 'YES'], dtype='object')\n"
     ]
    }
   ],
   "source": [
    "# Change to category\n",
    "dogs[\"likes_children\"] = dogs[\"likes_children\"].astype(\"category\")\n",
    "\n",
    "# Create the my_changes dictionary\n",
    "my_changes = {\"Maybe?\": \"Maybe\"}\n",
    "\n",
    "# Rename the categories listed in the my_changes dictionary\n",
    "dogs[\"likes_children\"] = dogs[\"likes_children\"].cat.rename_categories(my_changes)\n",
    "\n",
    "# Use a lambda function to convert all categories to uppercase using upper()\n",
    "dogs[\"likes_children\"] =  dogs[\"likes_children\"].cat.rename_categories(lambda c: c.upper())\n",
    "\n",
    "# Print the list of categories\n",
    "print(dogs[\"likes_children\"].cat.categories)"
   ]
  },
  {
   "cell_type": "markdown",
   "metadata": {},
   "source": [
    "**Collapsing categories**\n",
    "\n",
    "One problem that users of a local dog adoption website have voiced is that there are too many options. As they look through the different types of dogs, they are getting lost in the overwhelming amount of choice. To simplify some of the data, you are going through each column and collapsing data if appropriate. To preserve the original data, you are going to make new updated columns in the dogs dataset. You will start with the coat column. The frequency table is listed here:\n",
    "```\n",
    "short          1969\n",
    "medium          565\n",
    "wirehaired      220\n",
    "long            180\n",
    "medium-long       3\n",
    "```"
   ]
  },
  {
   "cell_type": "code",
   "execution_count": 1,
   "metadata": {},
   "outputs": [
    {
     "name": "stdout",
     "output_type": "stream",
     "text": [
      "      ID            name   age     sex               breed date_found  \\\n",
      "0  23807            Gida  0.25  female         Unknown Mix   12/10/19   \n",
      "1    533  Frida És Ricsi  0.17  female         Unknown Mix    12/1/19   \n",
      "2  23793             NaN  4.00    male         Unknown Mix    12/8/19   \n",
      "3  23795             NaN  1.00    male         Unknown Mix    12/8/19   \n",
      "4  23806             Amy  2.00  female  French Bulldog Mix   12/10/19   \n",
      "\n",
      "  adoptable_from    posted            color    coat    size neutered  \\\n",
      "0       12/11/19  12/11/19              red   short   small       no   \n",
      "1        12/1/19   12/9/19  black and white   short   small       no   \n",
      "2       12/23/19   12/8/19      saddle back   short  medium       no   \n",
      "3       12/23/19   12/8/19     yellow-brown  medium  medium       no   \n",
      "4       12/11/19  12/11/19            black   short   small       no   \n",
      "\n",
      "  housebroken likes_people likes_children get_along_males get_along_females  \\\n",
      "0         NaN          NaN            NaN             NaN               NaN   \n",
      "1         NaN          yes            yes             yes               yes   \n",
      "2         NaN          NaN            NaN             NaN               NaN   \n",
      "3         NaN          NaN            NaN             NaN               NaN   \n",
      "4         NaN          NaN            NaN             NaN               NaN   \n",
      "\n",
      "  get_along_cats keep_in  \n",
      "0            NaN     NaN  \n",
      "1            yes     NaN  \n",
      "2            NaN     NaN  \n",
      "3            NaN     NaN  \n",
      "4            NaN     NaN  \n"
     ]
    }
   ],
   "source": [
    "import pandas as pd\n",
    "\n",
    "dogs = pd.read_csv(\"/home/cyberx/data_camp_courses/datasets/working_with_categorical_data/ShelterDogs.csv\")\n",
    "\n",
    "print(dogs.head())"
   ]
  },
  {
   "cell_type": "code",
   "execution_count": 3,
   "metadata": {},
   "outputs": [
    {
     "name": "stdout",
     "output_type": "stream",
     "text": [
      "short         1972\n",
      "medium         565\n",
      "wirehaired     220\n",
      "long           180\n",
      "Name: coat, dtype: int64\n"
     ]
    }
   ],
   "source": [
    "# Print the frequency table\n",
    "print(dogs[\"coat\"].value_counts())"
   ]
  },
  {
   "cell_type": "code",
   "execution_count": 5,
   "metadata": {},
   "outputs": [
    {
     "name": "stdout",
     "output_type": "stream",
     "text": [
      "short     1972\n",
      "medium     785\n",
      "long       180\n",
      "Name: coat_collapsed, dtype: int64\n"
     ]
    }
   ],
   "source": [
    "# Create the update_coats dictionary\n",
    "update_coats = {\"wirehaired\": \"medium\",\n",
    "                \"medium-long\": \"medium\"}\n",
    "\n",
    "# Create a new column, coat_collapsed\n",
    "dogs[\"coat_collapsed\"] = dogs[\"coat\"].replace(update_coats)\n",
    "\n",
    "# Convert the column to categorical\n",
    "dogs[\"coat_collapsed\"] = dogs[\"coat_collapsed\"].astype(\"category\")\n",
    "\n",
    "# Print the frequency table\n",
    "print(dogs[\"coat_collapsed\"].value_counts())"
   ]
  },
  {
   "cell_type": "markdown",
   "metadata": {},
   "source": [
    "## Reordering categories"
   ]
  },
  {
   "cell_type": "markdown",
   "metadata": {},
   "source": [
    "**Reordering categories in a Series**\n",
    "\n",
    "The owner of a local dog adoption agency has asked you take a look at her data on adoptable dogs. She is specifically interested in the size of the dogs in her dataset and wants to know if there are differences in other variables, given a dog's size. The adoptable dogs dataset has been loaded as dogs and the \"size\" variable has already been saved as a categorical column."
   ]
  },
  {
   "cell_type": "code",
   "execution_count": 11,
   "metadata": {},
   "outputs": [
    {
     "data": {
      "text/html": [
       "<div>\n",
       "<style scoped>\n",
       "    .dataframe tbody tr th:only-of-type {\n",
       "        vertical-align: middle;\n",
       "    }\n",
       "\n",
       "    .dataframe tbody tr th {\n",
       "        vertical-align: top;\n",
       "    }\n",
       "\n",
       "    .dataframe thead th {\n",
       "        text-align: right;\n",
       "    }\n",
       "</style>\n",
       "<table border=\"1\" class=\"dataframe\">\n",
       "  <thead>\n",
       "    <tr style=\"text-align: right;\">\n",
       "      <th></th>\n",
       "      <th>ID</th>\n",
       "      <th>name</th>\n",
       "      <th>age</th>\n",
       "      <th>sex</th>\n",
       "      <th>breed</th>\n",
       "      <th>date_found</th>\n",
       "      <th>adoptable_from</th>\n",
       "      <th>posted</th>\n",
       "      <th>color</th>\n",
       "      <th>coat</th>\n",
       "      <th>size</th>\n",
       "      <th>neutered</th>\n",
       "      <th>housebroken</th>\n",
       "      <th>likes_people</th>\n",
       "      <th>likes_children</th>\n",
       "      <th>get_along_males</th>\n",
       "      <th>get_along_females</th>\n",
       "      <th>get_along_cats</th>\n",
       "      <th>keep_in</th>\n",
       "    </tr>\n",
       "  </thead>\n",
       "  <tbody>\n",
       "    <tr>\n",
       "      <th>0</th>\n",
       "      <td>23807</td>\n",
       "      <td>Gida</td>\n",
       "      <td>0.25</td>\n",
       "      <td>female</td>\n",
       "      <td>Unknown Mix</td>\n",
       "      <td>12/10/19</td>\n",
       "      <td>12/11/19</td>\n",
       "      <td>12/11/19</td>\n",
       "      <td>red</td>\n",
       "      <td>short</td>\n",
       "      <td>small</td>\n",
       "      <td>no</td>\n",
       "      <td>NaN</td>\n",
       "      <td>NaN</td>\n",
       "      <td>NaN</td>\n",
       "      <td>NaN</td>\n",
       "      <td>NaN</td>\n",
       "      <td>NaN</td>\n",
       "      <td>NaN</td>\n",
       "    </tr>\n",
       "    <tr>\n",
       "      <th>1</th>\n",
       "      <td>533</td>\n",
       "      <td>Frida És Ricsi</td>\n",
       "      <td>0.17</td>\n",
       "      <td>female</td>\n",
       "      <td>Unknown Mix</td>\n",
       "      <td>12/1/19</td>\n",
       "      <td>12/1/19</td>\n",
       "      <td>12/9/19</td>\n",
       "      <td>black and white</td>\n",
       "      <td>short</td>\n",
       "      <td>small</td>\n",
       "      <td>no</td>\n",
       "      <td>NaN</td>\n",
       "      <td>yes</td>\n",
       "      <td>yes</td>\n",
       "      <td>yes</td>\n",
       "      <td>yes</td>\n",
       "      <td>yes</td>\n",
       "      <td>NaN</td>\n",
       "    </tr>\n",
       "    <tr>\n",
       "      <th>2</th>\n",
       "      <td>23793</td>\n",
       "      <td>NaN</td>\n",
       "      <td>4.00</td>\n",
       "      <td>male</td>\n",
       "      <td>Unknown Mix</td>\n",
       "      <td>12/8/19</td>\n",
       "      <td>12/23/19</td>\n",
       "      <td>12/8/19</td>\n",
       "      <td>saddle back</td>\n",
       "      <td>short</td>\n",
       "      <td>medium</td>\n",
       "      <td>no</td>\n",
       "      <td>NaN</td>\n",
       "      <td>NaN</td>\n",
       "      <td>NaN</td>\n",
       "      <td>NaN</td>\n",
       "      <td>NaN</td>\n",
       "      <td>NaN</td>\n",
       "      <td>NaN</td>\n",
       "    </tr>\n",
       "    <tr>\n",
       "      <th>3</th>\n",
       "      <td>23795</td>\n",
       "      <td>NaN</td>\n",
       "      <td>1.00</td>\n",
       "      <td>male</td>\n",
       "      <td>Unknown Mix</td>\n",
       "      <td>12/8/19</td>\n",
       "      <td>12/23/19</td>\n",
       "      <td>12/8/19</td>\n",
       "      <td>yellow-brown</td>\n",
       "      <td>medium</td>\n",
       "      <td>medium</td>\n",
       "      <td>no</td>\n",
       "      <td>NaN</td>\n",
       "      <td>NaN</td>\n",
       "      <td>NaN</td>\n",
       "      <td>NaN</td>\n",
       "      <td>NaN</td>\n",
       "      <td>NaN</td>\n",
       "      <td>NaN</td>\n",
       "    </tr>\n",
       "    <tr>\n",
       "      <th>4</th>\n",
       "      <td>23806</td>\n",
       "      <td>Amy</td>\n",
       "      <td>2.00</td>\n",
       "      <td>female</td>\n",
       "      <td>French Bulldog Mix</td>\n",
       "      <td>12/10/19</td>\n",
       "      <td>12/11/19</td>\n",
       "      <td>12/11/19</td>\n",
       "      <td>black</td>\n",
       "      <td>short</td>\n",
       "      <td>small</td>\n",
       "      <td>no</td>\n",
       "      <td>NaN</td>\n",
       "      <td>NaN</td>\n",
       "      <td>NaN</td>\n",
       "      <td>NaN</td>\n",
       "      <td>NaN</td>\n",
       "      <td>NaN</td>\n",
       "      <td>NaN</td>\n",
       "    </tr>\n",
       "  </tbody>\n",
       "</table>\n",
       "</div>"
      ],
      "text/plain": [
       "      ID            name   age     sex               breed date_found  \\\n",
       "0  23807            Gida  0.25  female         Unknown Mix   12/10/19   \n",
       "1    533  Frida És Ricsi  0.17  female         Unknown Mix    12/1/19   \n",
       "2  23793             NaN  4.00    male         Unknown Mix    12/8/19   \n",
       "3  23795             NaN  1.00    male         Unknown Mix    12/8/19   \n",
       "4  23806             Amy  2.00  female  French Bulldog Mix   12/10/19   \n",
       "\n",
       "  adoptable_from    posted            color    coat    size neutered  \\\n",
       "0       12/11/19  12/11/19              red   short   small       no   \n",
       "1        12/1/19   12/9/19  black and white   short   small       no   \n",
       "2       12/23/19   12/8/19      saddle back   short  medium       no   \n",
       "3       12/23/19   12/8/19     yellow-brown  medium  medium       no   \n",
       "4       12/11/19  12/11/19            black   short   small       no   \n",
       "\n",
       "  housebroken likes_people likes_children get_along_males get_along_females  \\\n",
       "0         NaN          NaN            NaN             NaN               NaN   \n",
       "1         NaN          yes            yes             yes               yes   \n",
       "2         NaN          NaN            NaN             NaN               NaN   \n",
       "3         NaN          NaN            NaN             NaN               NaN   \n",
       "4         NaN          NaN            NaN             NaN               NaN   \n",
       "\n",
       "  get_along_cats keep_in  \n",
       "0            NaN     NaN  \n",
       "1            yes     NaN  \n",
       "2            NaN     NaN  \n",
       "3            NaN     NaN  \n",
       "4            NaN     NaN  "
      ]
     },
     "execution_count": 11,
     "metadata": {},
     "output_type": "execute_result"
    }
   ],
   "source": [
    "import pandas as pd\n",
    "\n",
    "path = \"/home/cyberx/data_camp_courses/datasets/\"\n",
    "dogs = pd.read_csv(path + \"working_with_categorical_data/ShelterDogs.csv\")\n",
    "\n",
    "dogs.head()"
   ]
  },
  {
   "cell_type": "code",
   "execution_count": 13,
   "metadata": {},
   "outputs": [
    {
     "name": "stdout",
     "output_type": "stream",
     "text": [
      "Index(['large', 'medium', 'small'], dtype='object')\n"
     ]
    }
   ],
   "source": [
    "# Change to Category\n",
    "dogs[\"size\"] = dogs[\"size\"].astype(\"category\")\n",
    "\n",
    "# Print out the current categories of the size variable\n",
    "print(dogs[\"size\"].cat.categories)"
   ]
  },
  {
   "cell_type": "code",
   "execution_count": 16,
   "metadata": {},
   "outputs": [
    {
     "name": "stdout",
     "output_type": "stream",
     "text": [
      "Index(['small', 'large', 'medium'], dtype='object')\n"
     ]
    }
   ],
   "source": [
    "# Reorder the categories using the list provided\n",
    "dogs[\"size\"] = dogs[\"size\"].cat.reorder_categories(\n",
    "    new_categories=[\"small\", \"large\", \"medium\"], \n",
    "    ordered=False\n",
    ")\n",
    "\n",
    "# Print out the current categories of the size variable\n",
    "print(dogs[\"size\"].cat.categories)"
   ]
  },
  {
   "cell_type": "code",
   "execution_count": 17,
   "metadata": {},
   "outputs": [
    {
     "name": "stdout",
     "output_type": "stream",
     "text": [
      "Index(['small', 'medium', 'large'], dtype='object')\n"
     ]
    }
   ],
   "source": [
    "# Reorder the categories, specifying the Series is ordinal\n",
    "dogs[\"size\"] = dogs[\"size\"].cat.reorder_categories(\n",
    "  new_categories=[\"small\", \"medium\", \"large\"],\n",
    "  ordered=True\n",
    ")\n",
    "\n",
    "# Print out the current categories of the size variable\n",
    "print(dogs[\"size\"].cat.categories)"
   ]
  },
  {
   "cell_type": "code",
   "execution_count": 19,
   "metadata": {},
   "outputs": [
    {
     "name": "stdout",
     "output_type": "stream",
     "text": [
      "Index(['small', 'medium', 'large'], dtype='object')\n"
     ]
    },
    {
     "name": "stderr",
     "output_type": "stream",
     "text": [
      "/tmp/ipykernel_32807/4083169103.py:2: FutureWarning: The `inplace` parameter in pandas.Categorical.reorder_categories is deprecated and will be removed in a future version. Reordering categories will always return a new Categorical object.\n",
      "  dogs[\"size\"].cat.reorder_categories(\n"
     ]
    }
   ],
   "source": [
    "# Reorder the categories, specifying the Series is ordinal, and overwriting the original series\n",
    "dogs[\"size\"].cat.reorder_categories(\n",
    "  new_categories=[\"small\", \"medium\", \"large\"],\n",
    "  ordered=True,\n",
    "  inplace=True\n",
    ")\n",
    "\n",
    "# Print out the current categories of the size variable\n",
    "print(dogs[\"size\"].cat.categories)"
   ]
  },
  {
   "cell_type": "markdown",
   "metadata": {},
   "source": [
    "**Using .groupby() after reordering**\n",
    "\n",
    "It is now time to run some analyses on the adoptable dogs dataset that is focused on the \"size\" of the dog. You have already developed some code to reorder the categories. In this exercise, you will develop two similar .groupby() statements to help better understand the effect of \"size\" on other variables. dogs has been preloaded for you."
   ]
  },
  {
   "cell_type": "code",
   "execution_count": 20,
   "metadata": {},
   "outputs": [
    {
     "name": "stdout",
     "output_type": "stream",
     "text": [
      "size    sex   \n",
      "small   male       260\n",
      "        female     214\n",
      "medium  male      1090\n",
      "        female     854\n",
      "large   male       331\n",
      "        female     188\n",
      "Name: sex, dtype: int64\n"
     ]
    },
    {
     "name": "stderr",
     "output_type": "stream",
     "text": [
      "/tmp/ipykernel_32807/51238195.py:2: FutureWarning: The `inplace` parameter in pandas.Categorical.reorder_categories is deprecated and will be removed in a future version. Reordering categories will always return a new Categorical object.\n",
      "  dogs[\"size\"].cat.reorder_categories(\n"
     ]
    }
   ],
   "source": [
    "# Previous code\n",
    "dogs[\"size\"].cat.reorder_categories(\n",
    "  new_categories=[\"small\", \"medium\", \"large\"],\n",
    "  ordered=True,\n",
    "  inplace=True\n",
    ")\n",
    "\n",
    "# How many Male/Female dogs are available of each size?\n",
    "print(dogs.groupby(\"size\")[\"sex\"].value_counts())"
   ]
  },
  {
   "cell_type": "code",
   "execution_count": 21,
   "metadata": {},
   "outputs": [
    {
     "name": "stdout",
     "output_type": "stream",
     "text": [
      "size    keep_in             \n",
      "small   both flat and garden    238\n",
      "        flat                     80\n",
      "        garden                   21\n",
      "medium  both flat and garden    795\n",
      "        garden                  317\n",
      "        flat                     97\n",
      "large   both flat and garden    191\n",
      "        garden                  172\n",
      "        flat                      5\n",
      "Name: keep_in, dtype: int64\n"
     ]
    }
   ],
   "source": [
    "# Do larger dogs need more room to roam?\n",
    "print(dogs.groupby(\"size\")[\"keep_in\"].value_counts())"
   ]
  },
  {
   "cell_type": "code",
   "execution_count": null,
   "metadata": {},
   "outputs": [],
   "source": [
    "\"\"\" \n",
    "Jumlah anjing jantan berukuran sedang lebih banyak dari pada kombinasi ukuran dan jenis kelamin lainnya. \n",
    "Anjing yang lebih besar juga lebih sering dipelihara di luar, dibandingkan di kandang.\n",
    "\"\"\""
   ]
  },
  {
   "cell_type": "markdown",
   "metadata": {},
   "source": [
    "## Cleaning and accessing data"
   ]
  },
  {
   "cell_type": "markdown",
   "metadata": {},
   "source": [
    "**Cleaning variables**\n",
    "\n",
    "Users of an online entry system used to have the ability to freely type in responses to questions. This is causing issues when trying to analyze the adoptable dogs dataset, dogs. Here is the current frequency table of the \"sex\" column:\n",
    "```\n",
    "male      1672\n",
    "female    1249\n",
    " MALE        10\n",
    " FEMALE       5\n",
    "Malez        1\n",
    "```\n",
    "Now that the system only takes responses of \"female\" and \"male\", you want this variable to match the updated system."
   ]
  },
  {
   "cell_type": "code",
   "execution_count": 23,
   "metadata": {},
   "outputs": [],
   "source": [
    "import pandas as pd\n",
    "\n",
    "dogs = pd.read_csv(\"/home/cyberx/data_camp_courses/datasets/working_with_categorical_data/ShelterDogs.csv\")"
   ]
  },
  {
   "cell_type": "code",
   "execution_count": 25,
   "metadata": {},
   "outputs": [
    {
     "name": "stdout",
     "output_type": "stream",
     "text": [
      "male      1681\n",
      "female    1256\n",
      "Name: sex, dtype: int64\n"
     ]
    }
   ],
   "source": [
    "# Fix the misspelled word\n",
    "replace_map = {\"Malez\": \"male\"}\n",
    "\n",
    "# Update the sex column using the created map\n",
    "dogs[\"sex\"] = dogs[\"sex\"].replace(replace_map)\n",
    "\n",
    "# Strip away leading whitespace\n",
    "dogs[\"sex\"] = dogs[\"sex\"].str.strip()\n",
    "\n",
    "# Make all responses lowercase\n",
    "dogs[\"sex\"] = dogs[\"sex\"].str.lower()\n",
    "\n",
    "# Convert to a categorical Series\n",
    "dogs[\"sex\"] = dogs[\"sex\"].astype(\"category\")\n",
    "\n",
    "print(dogs[\"sex\"].value_counts())"
   ]
  },
  {
   "cell_type": "markdown",
   "metadata": {},
   "source": [
    "**Accessing and filtering data**\n",
    "\n",
    "You are working on a Python application to display information about the dogs available for adoption at your local animal shelter. Some of the variables of interest, such as \"breed\", \"size\", and \"coat\", are saved as categorical variables. In order for this application to work properly, you need to be able to access and filter data using these columns.\n",
    "\n",
    "The ID variable has been set as the index of the pandas DataFrame dogs."
   ]
  },
  {
   "cell_type": "code",
   "execution_count": 1,
   "metadata": {},
   "outputs": [],
   "source": [
    "import pandas as pd\n",
    "\n",
    "path = \"/home/cyberx/data_camp_courses/datasets/working_with_categorical_data/\"\n",
    "   \n",
    "# read the CSV file and set the first row as index\n",
    "dogs = pd.read_csv(path + 'ShelterDogs.csv', header=0, index_col=0)"
   ]
  },
  {
   "cell_type": "code",
   "execution_count": null,
   "metadata": {},
   "outputs": [],
   "source": [
    "print(dogs[dogs[\"breed\"].str.contains(\"....\")][\"breed\"].value_counts())"
   ]
  },
  {
   "cell_type": "code",
   "execution_count": 4,
   "metadata": {},
   "outputs": [
    {
     "name": "stdout",
     "output_type": "stream",
     "text": [
      "Index(['Adoptable From:', 'Afghan Hound', 'Akita', 'Alaskan Malamute',\n",
      "       'American Bulldog', 'American Pit Bull Terrier',\n",
      "       'Australian Cattle Dog', 'Australian Shepherd', 'Azawakh',\n",
      "       'Basset Hound Mix',\n",
      "       ...\n",
      "       'Terrier Mix', 'Tibetan Mastiff Mix', 'Tibetan Terrier',\n",
      "       'Transylvanian Hound Mix', 'Unknown', 'Vizsla', 'Welsh Terrier Mix',\n",
      "       'West Highland White Terrier Mix', 'Whippet Mix', 'Yorkshire Terrier'],\n",
      "      dtype='object', length=120)\n"
     ]
    }
   ],
   "source": [
    "name_changes = {\"Unknown Mix\": \"Unknown\",\n",
    "                \"Akita Mix\": \"Akita\",\n",
    "                \"Akita, Boxer Mix\": \"Akita\",\n",
    "                \"Akita, German Shepherd Dog Mix\": \"Akita\",\n",
    "                \"Akita, Labrador Retriever Mix\": \"Akita\",\n",
    "                \"American Bulldog Mix\": \"American Bulldog\",\n",
    "                \"American Bulldog, Dogo Argentino Mix\": \"American Bulldog\",\n",
    "                \"American Pit Bull Terrier, Staffordshire Terrier Mix\": \"American Pit Bull Terrier\",\n",
    "                \"Australian Shepherd, Labrador Retriever Mix\": \"Australian Shepherd\",\n",
    "                \"Australian Cattle Dog, German Shepherd Dog Mix\": \"Australian Cattle Dog\",\n",
    "                \"Alaskan Malamute, Caucasian Ovtcharka, German Shepherd Dog Mix\": \"Alaskan Malamute\",\n",
    "                \"Azawakh, Hungarian Greyhound Mix\": \"Azawakh\",\n",
    "                \"Beagle Mix\": \"Beagle\",\n",
    "                \"Beagle, Hound Mix\": \"Beagle\",\n",
    "                \"Beagle, Dachshund Mix\": \"Beagle\",\n",
    "                \"Beagle, Labrador Retriever, Scotch Collie Mix\": \"Beagle\",\n",
    "                \"Beagle, Chihuahua Mix\": \"Beagle\",\n",
    "                \"Bearded Collie Mix\": \"Bearded Collie\",\n",
    "                \"Bearded Collie, Labrador Retriever Mix\": \"Bearded Collie\",\n",
    "                \"Bearded Collie, Staffordshire Terrier Mix\": \"Bearded Collie\",\n",
    "                \"Belgian Malinois Mix\": \"Belgian Malinois\",\n",
    "                \"Belgian Malinois, German Shepherd Dog Mix\": \"Belgian Malinois\",\n",
    "                \"Belgian Malinois, Labrador Retriever Mix\": \"Belgian Malinois\",\n",
    "                \"Belgian Malinois, Greyhound Mix\": \"Belgian Malinois\",\n",
    "                \"Belgian Malinois, Belgian Sheepdog Mix\": \"Belgian Malinois\",\n",
    "                \"Belgian Malinois, Hungarian Vizsla Mix\": \"Belgian Malinois\",\n",
    "                \"Belgian Sheepdog Mix\": \"Belgian Sheepdog\",\n",
    "                \"Belgian Sheepdog, German Shepherd Dog Mix\": \"Belgian Sheepdog\",\n",
    "                \"Belgian Sheepdog, Mudi Mix\": \"Belgian Sheepdog\",\n",
    "                \"Bull Terrier Mix\": \"Bull Terrier\",\n",
    "                \"Bull Terrier, Dachshund Mix\": \"Bull Terrier\",\n",
    "                \"Bull Terrier, Staffordshire Terrier Mix\": \"Bull Terrier\",\n",
    "                \"Bull Terrier, Fox Terrier, Staffordshire Terrier Mix\": \"Bull Terrier\",\n",
    "                \"Bull Terrier, Hungarian Greyhound Mix\": \"Bull Terrier\",\n",
    "                \"Bullmastiff Mix\": \"Bullmastiff\",\n",
    "                \"Bulldog Mix\": \"Bulldog\",\n",
    "                \"Chinese Shar-Pei Mix\": \"Chinese Shar-Pei\",\n",
    "                \"Chinese Shar-Pei, Dachshund Mix\": \"Chinese Shar-Pei\",\n",
    "                \"Chinese Shar-Pei, Dachshund, Fox Terrier Mix\": \"Chinese Shar-Pei\",\n",
    "                \"Chinese Shar-Pei, Staffordshire Terrier Mix\": \"Chinese Shar-Pei\",\n",
    "                \"Chinese Shar-Pei, Vizsla Mix\": \"Chinese Shar-Pei\",\n",
    "                \"Chinese Shar-Pei, Labrador Retriever Mix\": \"Chinese Shar-Pei\",\n",
    "                \"Cane Corso Mix\": \"Cane Corso\",\n",
    "                \"Chihuahua Mix\": \"Chihuahua\",\n",
    "                \"Chihuahua, Pinscher Mix\": \"Chihuahua\",\n",
    "                \"Chihuahua, Dachshund, Pinscher Mix\": \"Chihuahua\",\n",
    "                \"Caucasian Ovtcharka, German Shepherd Dog Mix\": \"Caucasian Ovtcharka\",\n",
    "                \"Caucasian Ovtcharka Mix\": \"Caucasian Ovtcharka\",\n",
    "                \"Caucasian Ovtcharka, Siberian Husky Mix\": \"Caucasian Ovtcharka\",\n",
    "                \"Caucasian Ovtcharka, Rottweiler Mix\": \"Caucasian Ovtcharka\",\n",
    "                \"Canary Dog Mix\": \"Canary Dog\",\n",
    "                \"Central Asian Ovtcharka Mix\": \"Central Asian Ovtcharka\",\n",
    "                \"Chow Chow Mix\": \"Chow Chow\",\n",
    "                \"Chow Chow, Dachshund Mix\": \"Chow Chow\",\n",
    "                \"Collie Mix\": \"Collie\",\n",
    "                \"Dachshund Mix\": \"Dachshund\",\n",
    "                \"Dachshund, Fox Terrier Mix\": \"Dachshund\",\n",
    "                \"Dachshund, German Shepherd Dog Mix\": \"Dachshund\",\n",
    "                \"Dachshund, Spaniel Mix\": \"Dachshund\",\n",
    "                \"Dachshund, English Cocker Spaniel Mix\": \"Dachshund\",\n",
    "                \"Dachshund, Labrador Retriever Mix\": \"Dachshund\",\n",
    "                \"Dachshund, Jack Russell Terrier Mix\": \"Dachshund\",\n",
    "                \"Dachshund, German Shepherd Dog, Labrador Retriever Mix\": \"Dachshund\",\n",
    "                \"Dachshund, English Cocker Spaniel, Whippet Mix\": \"Dachshund\",\n",
    "                \"Dachshund, Terrier Mix\": \"Dachshund\",\n",
    "                \"Dachshund, Pekingese Mix\": \"Dachshund\",\n",
    "                \"Dachshund, Vizsla Mix\": \"Dachshund\",\n",
    "                \"Dachshund, Golden Retriever Mix\": \"Dachshund\",\n",
    "                \"Dachshund, Havanese, Setter Mix\": \"Dachshund\",\n",
    "                \"Dachshund, Hound Mix\": \"Dachshund\",\n",
    "                \"Dachshund, Staffordshire Terrier Mix\": \"Dachshund\",\n",
    "                \"Dachshund, Mudi, Papillon Mix\": \"Dachshund\", \n",
    "                \"Dachshund, Setter Mix\": \"Dachshund\",\n",
    "                \"Dogo Argentino Mix\": \"Dogo Argentino\",\n",
    "                \"Dogo Argentino, Staffordshire Terrier Mix\": \"Dogo Argentino\",\n",
    "                \"Doberman Mix\": \"Doberman\",\n",
    "                \"Doberman, Greyhound, Labrador Retriever Mix\": \"Doberman\",\n",
    "                \"English Greyhound, Spanish Greyhound Mix\": \"English Greyhound\",\n",
    "                \"English Greyhound Mix\": \"English Greyhound\",\n",
    "                \"English Cocker Spaniel Mix\": \"English Cocker\",\n",
    "                \"English Cocker Spaniel, Labrador Retriever Mix\": \"English Cocker\",\n",
    "                \"English Cocker Spaniel, Terrier Mix\": \"English Cocker\",\n",
    "                \"English Cocker Spaniel, Vizsla Mix\": \"English Cocker\",\n",
    "                \"English Cocker Spaniel, Spitz Mix\": \"English Cocker\",\n",
    "                \"English Bloodhound, German Shepherd Dog Mix\": \"English Bloodhound\",\n",
    "                \"French Bulldog Mix\": \"French Bulldog\",\n",
    "                \"Fox Terrier Mix\": \"Fox Terrier\",\n",
    "                \"Fox Terrier, Staffordshire Terrier Mix\": \"Fox Terrier\",\n",
    "                \"Fox Terrier, Whippet Mix\": \"Fox Terrier\",\n",
    "                \"Fox Terrier, Spaniel Mix\": \"Fox Terrier\",\n",
    "                \"Fox Terrier, Schnauzer Mix\": \"Fox Terrier\",\n",
    "                \"Fox Terrier, Pekingese Mix\": \"Fox Terrier\",\n",
    "                \"Fox Terrier, Jagd Terrier Mix\": \"Fox Terrier\",\n",
    "                \"Fox Terrier, German Shepherd Dog Mix\": \"Fox Terrier\",\n",
    "                \"German Shepherd Dog Mix\": \"German Shepherd Dog\",\n",
    "                \"German Shepherd Dog, Staffordshire Terrier Mix\": \"German Shepherd Dog\",\n",
    "                \"German Shepherd Dog, Hound Mix\": \"German Shepherd Dog\",\n",
    "                \"German Shepherd Dog, Greyhound Mix\": \"German Shepherd Dog\",\n",
    "                \"German Shepherd Dog, Siberian Husky Mix\": \"German Shepherd Dog\",\n",
    "                \"German Shepherd Dog, Transylvanian Hound Mix\": \"German Shepherd Dog\",\n",
    "                \"German Shepherd Dog, Labrador Retriever Mix\": \"German Shepherd Dog\",\n",
    "                \"German Shepherd Dog, Schnauzer Mix\": \"German Shepherd Dog\",\n",
    "                \"German Shepherd Dog, Labrador Retriever, Staffordshire Terrier Mix\": \"German Shepherd Dog\",\n",
    "                \"German Shepherd Dog, Rottweiler, Staffordshire Terrier Mix\": \"German Shepherd Dog\",\n",
    "                \"German Shepherd Dog, Pumi Mix\": \"German Shepherd Dog\",\n",
    "                \"German Shepherd Dog, Scotch Collie Mix\": \"German Shepherd Dog\",\n",
    "                \"German Shepherd Dog, Mudi Mix\": \"German Shepherd Dog\",\n",
    "                \"German Shepherd Dog, Pinscher, Siberian Husky Mix\": \"German Shepherd Dog\",\n",
    "                \"German Shepherd Dog, Rottweiler Mix\": \"German Shepherd Dog\",\n",
    "                \"Greyhound Mix\": \"Greyhound\",\n",
    "                \"Greyhound, Labrador Retriever Mix\": \"Greyhound\",\n",
    "                \"Greyhound, Vizsla, Weimaraner Mix\": \"Greyhound\",\n",
    "                \"Greyhound, Hungarian Greyhound Mix\": \"Greyhound\",\n",
    "                \"Greyhound, Transylvanian Hound Mix\": \"Greyhound\",\n",
    "                \"Great Dane Mix\": \"Great Dane\",\n",
    "                \"Great Dane, Staffordshire Terrier Mix\": \"Great Dane\",\n",
    "                \"Great Pyrenees Mix\": \"Great Pyrenees\",\n",
    "                \"Golden Retriever, Labrador Retriever Mix\": \"Golden Retriever\",\n",
    "                \"Golden Retriever Mix\": \"Golden Retriever\",\n",
    "                \"Golden Retriever, Terrier Mix\": \"Golden Retriever\",\n",
    "                \"Golden Retriever, Setter, Vizsla Mix\": \"Golden Retriever\",\n",
    "                \"Golden Retriever, Kuvasz Mix\": \"Golden Retriever\",\n",
    "                \"Hungarian Vizsla, Staffordshire Terrier Mix\": \"Hungarian Vizsla\",\n",
    "                \"Hungarian Vizsla, Labrador Retriever Mix\": \"Hungarian Vizsla\",\n",
    "                \"Hungarian Vizsla Mix\": \"Hungarian Vizsla\",\n",
    "                \"Hungarian Greyhound Mix\": \"Hungarian Greyhound\",\n",
    "                \"Havanese, Poodle Mix\": \"Havanese\",\n",
    "                \"Havanese, Puli, Pumi Mix\": \"Havanese\",\n",
    "                \"Hovawart Mix\": \"Hovawart\",\n",
    "                \"Hound Mix\": \"Hound\",\n",
    "                \"Hound, Staffordshire Terrier Mix\": \"Hound\",\n",
    "                \"Hound, Labrador Retriever Mix\": \"Hound\",\n",
    "                \"Irish Setter, Vizsla Mix\": \"Irish Setter\",\n",
    "                \"Irish Wolfhound Mix\": \"Irish Wolfhound\",\n",
    "                \"Jagd Terrier Mix\": \"Jagd Terrier\",\n",
    "                \"Jagd Terrier, Puli Mix\": \"Jagd Terrier\",\n",
    "                \"Jack Russell Terrier Mix\": \"Jack Russell Terrier\",\n",
    "                \"Komondor Mix\": \"Komondor\",\n",
    "                \"Komondor, Puli Mix\": \"Komondor\",\n",
    "                \"Kuvasz Mix\": \"Kuvasz\",\n",
    "                \"Kuvasz, Pumi Mix\": \"Kuvasz\",\n",
    "                \"Kuvasz, Labrador Retriever Mix\": \"Kuvasz\",\n",
    "                \"Labrador Retriever Mix\": \"Labrador Retriever\",\n",
    "                \"Labrador Retriever, Poodle Mix\": \"Labrador Retriever\",\n",
    "                \"Labrador Retriever, Staffordshire Terrier Mix\": \"Labrador Retriever\",\n",
    "                \"Labrador Retriever, Vizsla Mix\": \"Labrador Retriever\",\n",
    "                \"Labrador Retriever, Rhodesian Ridgeback Mix\": \"Labrador Retriever\",\n",
    "                \"Labrador Retriever, Transylvanian Hound Mix\": \"Labrador Retriever\",\n",
    "                \"Labrador Retriever, Newfoundland Mix\": \"Labrador Retriever\",\n",
    "                \"Mudi Mix\": \"Mudi\",\n",
    "                \"Mudi, Puli Mix\": \"Mudi\",\n",
    "                \"Mastiff Mix\": \"Mastiff\",\n",
    "                \"Miniature Schnauzer Mix\": \"Miniature Schnauzer\",\n",
    "                \"Norfolk Terrier Mix\": \"Norfolk Terrier\",\n",
    "                \"Newfoundland Mix\": \"Newfoundland\",\n",
    "                \"Old German Shepherd Mix\": \"Old German Shepherd\",\n",
    "                \"Puli Mix\": \"Puli\",\n",
    "                \"Puli, Pumi Mix\": \"Puli\",\n",
    "                \"Puli, Terrier Mix\": \"Puli\",\n",
    "                \"Puli, Spaniel Mix\": \"Puli\",\n",
    "                \"Puli, Schnauzer, Spaniel Mix\": \"Puli\",\n",
    "                \"Puli, Schnauzer Mix\": \"Puli\",\n",
    "                \"Puli, Pumi, Tibetan Terrier Mix\": \"Puli\",\n",
    "                \"Puli, Scotch Collie Mix\": \"Puli\",\n",
    "                \"Pinscher Mix\": \"Pinscher\",\n",
    "                \"Poodle Mix\": \"Poodle\",\n",
    "                \"Poodle, Pumi Mix\": \"Poodle\",\n",
    "                \"Pekingese Mix\": \"Pekingese\",\n",
    "                \"Pekingese, Tibetan Spaniel Mix\": \"Pekingese\",\n",
    "                \"Pekingese, Spitz Mix\": \"Pekingese\",\n",
    "                \"Pumi Mix\": \"Pumi\",\n",
    "                \"Pumi, Schnauzer Mix\": \"Pumi\",\n",
    "                \"Pointer Mix\": \"Pointer\",\n",
    "                \"Pointer, Setter Mix\": \"Pointer\",\n",
    "                \"Parson Russell Terrier Mix\": \"Parson Russell Terrier\",\n",
    "                \"Rottweiler Mix\": \"Rottweiler\",\n",
    "                \"Rottweiler, Transylvanian Hound Mix\": \"Rottweiler\",\n",
    "                \"Rhodesian Ridgeback Mix\": \"Rhodesian Ridgeback\",\n",
    "                \"Russian Laikas Mix\": \"Russian Laikas\",\n",
    "                \"Staffordshire Terrier Mix\": \"Staffordshire Terrier\",\n",
    "                \"Spaniel Mix\": \"Spaniel\",\n",
    "                \"Spaniel, Terrier Mix\": \"Spaniel\",\n",
    "                \"Siberian Husky Mix\": \"Siberian Husky\",\n",
    "                \"Siberian Husky, Transylvanian Hound Mix\": \"Siberian Husky\",\n",
    "                \"Schnauzer Mix\": \"Schnauzer\",\n",
    "                \"Schnauzer, Terrier Mix\": \"Schnauzer\",\n",
    "                \"Schnauzer, Spaniel Mix\": \"Schnauzer\",\n",
    "                \"Setter Mix\": \"Setter\",\n",
    "                \"Setter, Spaniel, Terrier Mix\": \"Setter\",\n",
    "                \"Tibetan Terrier Mix\": \"Tibetan Terrier\",\n",
    "                \"Vizsla Mix\": \"Vizsla\",\n",
    "                \"Vizsla, Whippet Mix\": \"Vizsla\",\n",
    "}\n",
    "\n",
    "dogs[\"breed\"] = dogs[\"breed\"].replace(name_changes)\n",
    "dogs[\"breed\"] = dogs[\"breed\"].astype(\"category\")\n",
    "\n",
    "print(dogs[\"breed\"].cat.categories)"
   ]
  },
  {
   "cell_type": "code",
   "execution_count": 6,
   "metadata": {},
   "outputs": [
    {
     "data": {
      "text/plain": [
       "Unknown                             1524\n",
       "German Shepherd Dog                  263\n",
       "Dachshund                            186\n",
       "Labrador Retriever                   111\n",
       "Staffordshire Terrier                 75\n",
       "                                    ... \n",
       "Canary Dog                             1\n",
       "Bulldog                                1\n",
       "Boxer, Staffordshire Terrier Mix       1\n",
       "Boxer, Schnauzer Mix                   1\n",
       "Yorkshire Terrier                      1\n",
       "Name: breed, Length: 120, dtype: int64"
      ]
     },
     "execution_count": 6,
     "metadata": {},
     "output_type": "execute_result"
    }
   ],
   "source": [
    "dogs[\"breed\"].value_counts()"
   ]
  },
  {
   "cell_type": "code",
   "execution_count": 7,
   "metadata": {},
   "outputs": [
    {
     "name": "stdout",
     "output_type": "stream",
     "text": [
      "short\n"
     ]
    }
   ],
   "source": [
    "# Print the category of the coat for ID 23807\n",
    "print(dogs.loc[23807, \"coat\"])"
   ]
  },
  {
   "cell_type": "code",
   "execution_count": 8,
   "metadata": {},
   "outputs": [
    {
     "name": "stdout",
     "output_type": "stream",
     "text": [
      "male      124\n",
      "female     56\n",
      "Name: sex, dtype: int64\n"
     ]
    }
   ],
   "source": [
    "# Find the count of male and female dogs who have a \"long\" coat\n",
    "print(dogs.loc[dogs.coat == \"long\", \"sex\"].value_counts())"
   ]
  },
  {
   "cell_type": "code",
   "execution_count": 9,
   "metadata": {},
   "outputs": [
    {
     "name": "stdout",
     "output_type": "stream",
     "text": [
      "8.186153846153847\n"
     ]
    }
   ],
   "source": [
    "# Print the mean age of dogs with a breed of \"English Cocker Spaniel\"\n",
    "print(dogs.loc[dogs.breed == \"English Cocker Spaniel\", \"age\"].mean())"
   ]
  },
  {
   "cell_type": "code",
   "execution_count": 10,
   "metadata": {},
   "outputs": [
    {
     "name": "stdout",
     "output_type": "stream",
     "text": [
      "32\n"
     ]
    }
   ],
   "source": [
    "# Count the number of dogs that have \"English\" in their breed name\n",
    "print(dogs[dogs[\"breed\"].str.contains(\"English\", regex=False)].shape[0])"
   ]
  },
  {
   "cell_type": "markdown",
   "metadata": {},
   "source": [
    "# 3) Visualizing Categorical Data"
   ]
  },
  {
   "cell_type": "markdown",
   "metadata": {},
   "source": [
    "## Introduction to categorical plots using Seaborn"
   ]
  },
  {
   "cell_type": "markdown",
   "metadata": {},
   "source": [
    "**Boxplot understanding**\n",
    "\n",
    "The following boxplot shows hotel review scores given the traveler type. Select the response that best describes the box plots.\n",
    "\n",
    "<img src=\"https://assets.datacamp.com/production/repositories/5809/datasets/036a214f31020cb07b5ce72fddccaec878725070/3.1_mc4.png\" alt=\"Logo\" width=\"350\">"
   ]
  },
  {
   "cell_type": "markdown",
   "metadata": {},
   "source": [
    "***Answer***\n",
    "\n",
    "Three of the five traveler types have outliers as indicated by the black dots lying outside of the black bands of the box plot.\n",
    "\n",
    "---"
   ]
  },
  {
   "cell_type": "markdown",
   "metadata": {},
   "source": [
    "**Creating a box plot**\n",
    "\n",
    "When people leave reviews for products, services, or destinations, people reading those reviews can sometimes mark the original review as helpful. If enough people mark the review as helpful, future readers of these reviews might be more likely to trust the content of the original review.\n",
    "\n",
    "Using the reviews dataset, explore the continuous variable \"Helpful votes\" across the different categories found in the \"Traveler type\" variable."
   ]
  },
  {
   "cell_type": "code",
   "execution_count": 1,
   "metadata": {},
   "outputs": [],
   "source": [
    "import seaborn as sns\n",
    "import matplotlib.pyplot as plt\n",
    "import pandas as pd"
   ]
  },
  {
   "cell_type": "code",
   "execution_count": 2,
   "metadata": {},
   "outputs": [],
   "source": [
    "path = \"/home/cyberx/data_camp_courses/datasets/working_with_categorical_data/\"\n",
    "\n",
    "reviews = pd.read_csv(path + \"lasvegas_tripadvisor.csv\")"
   ]
  },
  {
   "cell_type": "code",
   "execution_count": 3,
   "metadata": {},
   "outputs": [
    {
     "data": {
      "text/html": [
       "<div>\n",
       "<style scoped>\n",
       "    .dataframe tbody tr th:only-of-type {\n",
       "        vertical-align: middle;\n",
       "    }\n",
       "\n",
       "    .dataframe tbody tr th {\n",
       "        vertical-align: top;\n",
       "    }\n",
       "\n",
       "    .dataframe thead th {\n",
       "        text-align: right;\n",
       "    }\n",
       "</style>\n",
       "<table border=\"1\" class=\"dataframe\">\n",
       "  <thead>\n",
       "    <tr style=\"text-align: right;\">\n",
       "      <th></th>\n",
       "      <th>User country</th>\n",
       "      <th>Nr. reviews</th>\n",
       "      <th>Nr. hotel reviews</th>\n",
       "      <th>Helpful votes</th>\n",
       "      <th>Score</th>\n",
       "      <th>Period of stay</th>\n",
       "      <th>Traveler type</th>\n",
       "      <th>Pool</th>\n",
       "      <th>Gym</th>\n",
       "      <th>Tennis court</th>\n",
       "      <th>Spa</th>\n",
       "      <th>Casino</th>\n",
       "      <th>Free internet</th>\n",
       "      <th>Hotel name</th>\n",
       "      <th>Hotel stars</th>\n",
       "      <th>Nr. rooms</th>\n",
       "      <th>User continent</th>\n",
       "      <th>Member years</th>\n",
       "      <th>Review month</th>\n",
       "      <th>Review weekday</th>\n",
       "    </tr>\n",
       "  </thead>\n",
       "  <tbody>\n",
       "    <tr>\n",
       "      <th>0</th>\n",
       "      <td>USA</td>\n",
       "      <td>11</td>\n",
       "      <td>4</td>\n",
       "      <td>13</td>\n",
       "      <td>5</td>\n",
       "      <td>Dec-Feb</td>\n",
       "      <td>Friends</td>\n",
       "      <td>NO</td>\n",
       "      <td>YES</td>\n",
       "      <td>NO</td>\n",
       "      <td>NO</td>\n",
       "      <td>YES</td>\n",
       "      <td>YES</td>\n",
       "      <td>Circus Circus Hotel &amp; Casino Las Vegas</td>\n",
       "      <td>3</td>\n",
       "      <td>3773</td>\n",
       "      <td>North America</td>\n",
       "      <td>9</td>\n",
       "      <td>January</td>\n",
       "      <td>Thursday</td>\n",
       "    </tr>\n",
       "    <tr>\n",
       "      <th>1</th>\n",
       "      <td>USA</td>\n",
       "      <td>119</td>\n",
       "      <td>21</td>\n",
       "      <td>75</td>\n",
       "      <td>3</td>\n",
       "      <td>Dec-Feb</td>\n",
       "      <td>Business</td>\n",
       "      <td>NO</td>\n",
       "      <td>YES</td>\n",
       "      <td>NO</td>\n",
       "      <td>NO</td>\n",
       "      <td>YES</td>\n",
       "      <td>YES</td>\n",
       "      <td>Circus Circus Hotel &amp; Casino Las Vegas</td>\n",
       "      <td>3</td>\n",
       "      <td>3773</td>\n",
       "      <td>North America</td>\n",
       "      <td>3</td>\n",
       "      <td>January</td>\n",
       "      <td>Friday</td>\n",
       "    </tr>\n",
       "    <tr>\n",
       "      <th>2</th>\n",
       "      <td>USA</td>\n",
       "      <td>36</td>\n",
       "      <td>9</td>\n",
       "      <td>25</td>\n",
       "      <td>5</td>\n",
       "      <td>Mar-May</td>\n",
       "      <td>Families</td>\n",
       "      <td>NO</td>\n",
       "      <td>YES</td>\n",
       "      <td>NO</td>\n",
       "      <td>NO</td>\n",
       "      <td>YES</td>\n",
       "      <td>YES</td>\n",
       "      <td>Circus Circus Hotel &amp; Casino Las Vegas</td>\n",
       "      <td>3</td>\n",
       "      <td>3773</td>\n",
       "      <td>North America</td>\n",
       "      <td>2</td>\n",
       "      <td>February</td>\n",
       "      <td>Saturday</td>\n",
       "    </tr>\n",
       "    <tr>\n",
       "      <th>3</th>\n",
       "      <td>UK</td>\n",
       "      <td>14</td>\n",
       "      <td>7</td>\n",
       "      <td>14</td>\n",
       "      <td>4</td>\n",
       "      <td>Mar-May</td>\n",
       "      <td>Friends</td>\n",
       "      <td>NO</td>\n",
       "      <td>YES</td>\n",
       "      <td>NO</td>\n",
       "      <td>NO</td>\n",
       "      <td>YES</td>\n",
       "      <td>YES</td>\n",
       "      <td>Circus Circus Hotel &amp; Casino Las Vegas</td>\n",
       "      <td>3</td>\n",
       "      <td>3773</td>\n",
       "      <td>Europe</td>\n",
       "      <td>6</td>\n",
       "      <td>February</td>\n",
       "      <td>Friday</td>\n",
       "    </tr>\n",
       "    <tr>\n",
       "      <th>4</th>\n",
       "      <td>Canada</td>\n",
       "      <td>5</td>\n",
       "      <td>5</td>\n",
       "      <td>2</td>\n",
       "      <td>4</td>\n",
       "      <td>Mar-May</td>\n",
       "      <td>Solo</td>\n",
       "      <td>NO</td>\n",
       "      <td>YES</td>\n",
       "      <td>NO</td>\n",
       "      <td>NO</td>\n",
       "      <td>YES</td>\n",
       "      <td>YES</td>\n",
       "      <td>Circus Circus Hotel &amp; Casino Las Vegas</td>\n",
       "      <td>3</td>\n",
       "      <td>3773</td>\n",
       "      <td>North America</td>\n",
       "      <td>7</td>\n",
       "      <td>March</td>\n",
       "      <td>Tuesday</td>\n",
       "    </tr>\n",
       "  </tbody>\n",
       "</table>\n",
       "</div>"
      ],
      "text/plain": [
       "  User country  Nr. reviews  Nr. hotel reviews  Helpful votes  Score  \\\n",
       "0          USA           11                  4             13      5   \n",
       "1          USA          119                 21             75      3   \n",
       "2          USA           36                  9             25      5   \n",
       "3           UK           14                  7             14      4   \n",
       "4       Canada            5                  5              2      4   \n",
       "\n",
       "  Period of stay Traveler type Pool  Gym Tennis court Spa Casino  \\\n",
       "0        Dec-Feb       Friends   NO  YES           NO  NO    YES   \n",
       "1        Dec-Feb      Business   NO  YES           NO  NO    YES   \n",
       "2        Mar-May      Families   NO  YES           NO  NO    YES   \n",
       "3        Mar-May       Friends   NO  YES           NO  NO    YES   \n",
       "4        Mar-May          Solo   NO  YES           NO  NO    YES   \n",
       "\n",
       "  Free internet                              Hotel name  Hotel stars  \\\n",
       "0           YES  Circus Circus Hotel & Casino Las Vegas            3   \n",
       "1           YES  Circus Circus Hotel & Casino Las Vegas            3   \n",
       "2           YES  Circus Circus Hotel & Casino Las Vegas            3   \n",
       "3           YES  Circus Circus Hotel & Casino Las Vegas            3   \n",
       "4           YES  Circus Circus Hotel & Casino Las Vegas            3   \n",
       "\n",
       "   Nr. rooms User continent  Member years Review month Review weekday  \n",
       "0       3773  North America             9      January       Thursday  \n",
       "1       3773  North America             3      January         Friday  \n",
       "2       3773  North America             2     February       Saturday  \n",
       "3       3773         Europe             6     February         Friday  \n",
       "4       3773  North America             7        March        Tuesday  "
      ]
     },
     "execution_count": 3,
     "metadata": {},
     "output_type": "execute_result"
    }
   ],
   "source": [
    "reviews.head()"
   ]
  },
  {
   "cell_type": "code",
   "execution_count": 8,
   "metadata": {},
   "outputs": [
    {
     "data": {
      "image/png": "[encoded data removed]",
      "text/plain": [
       "<Figure size 500x500 with 1 Axes>"
      ]
     },
     "metadata": {},
     "output_type": "display_data"
    }
   ],
   "source": [
    "# Set the font size to 1.25\n",
    "sns.set(font_scale = 1.00)\n",
    "\n",
    "# Set the background to \"darkgrid\"\n",
    "sns.set_style(\"darkgrid\")\n",
    "\n",
    "\n",
    "# Create a boxplot\n",
    "sns.catplot(x=\"Traveler type\",\n",
    "            y=\"Helpful votes\",\n",
    "            data=reviews,\n",
    "            kind=\"box\")\n",
    "\n",
    "plt.show()"
   ]
  },
  {
   "cell_type": "markdown",
   "metadata": {},
   "source": []
  },
  {
   "cell_type": "code",
   "execution_count": null,
   "metadata": {},
   "outputs": [],
   "source": []
  },
  {
   "cell_type": "markdown",
   "metadata": {},
   "source": [
    "# 4) Pitfalls and Encoding"
   ]
  }
 ],
 "metadata": {
  "kernelspec": {
   "display_name": ".venv",
   "language": "python",
   "name": "python3"
  },
  "language_info": {
   "codemirror_mode": {
    "name": "ipython",
    "version": 3
   },
   "file_extension": ".py",
   "mimetype": "text/x-python",
   "name": "python",
   "nbconvert_exporter": "python",
   "pygments_lexer": "ipython3",
   "version": "3.10.15"
  }
 },
 "nbformat": 4,
 "nbformat_minor": 2
}
