{
 "cells": [
  {
   "cell_type": "markdown",
   "metadata": {},
   "source": [
    "# Introduction to NumPy"
   ]
  },
  {
   "cell_type": "markdown",
   "metadata": {},
   "source": [
    "## Introducing arrays"
   ]
  },
  {
   "cell_type": "markdown",
   "metadata": {},
   "source": [
    "**Your first NumPy array**\n",
    "\n",
    "Once you're comfortable with NumPy, you'll find yourself converting Python lists into NumPy arrays all the time for increased speed and access to NumPy's excellent array methods.\n",
    "\n",
    "sudoku_list is a Python list containing a sudoku game:\n",
    "\n",
    "```\n",
    "[[0, 0, 4, 3, 0, 0, 2, 0, 9],\n",
    " [0, 0, 5, 0, 0, 9, 0, 0, 1],\n",
    " [0, 7, 0, 0, 6, 0, 0, 4, 3],\n",
    " [0, 0, 6, 0, 0, 2, 0, 8, 7],\n",
    " [1, 9, 0, 0, 0, 7, 4, 0, 0],\n",
    " [0, 5, 0, 0, 8, 3, 0, 0, 0],\n",
    " [6, 0, 0, 0, 0, 0, 1, 0, 5],\n",
    " [0, 0, 3, 5, 0, 8, 6, 9, 0],\n",
    " [0, 4, 2, 9, 1, 0, 3, 0, 0]]\n",
    "```\n",
    "\n",
    "You're going to change sudoku_list into a NumPy array so you can practice with it in later lessons, for example by creating a 4D array of sudoku games along with their solutions!"
   ]
  },
  {
   "cell_type": "code",
   "execution_count": 2,
   "metadata": {},
   "outputs": [],
   "source": [
    "sudoku_list = [[0, 0, 4, 3, 0, 0, 2, 0, 9],\n",
    "                [0, 0, 5, 0, 0, 9, 0, 0, 1],\n",
    "                [0, 7, 0, 0, 6, 0, 0, 4, 3],\n",
    "                [0, 0, 6, 0, 0, 2, 0, 8, 7],\n",
    "                [1, 9, 0, 0, 0, 7, 4, 0, 0],\n",
    "                [0, 5, 0, 0, 8, 3, 0, 0, 0],\n",
    "                [6, 0, 0, 0, 0, 0, 1, 0, 5],\n",
    "                [0, 0, 3, 5, 0, 8, 6, 9, 0],\n",
    "                [0, 4, 2, 9, 1, 0, 3, 0, 0]]"
   ]
  },
  {
   "cell_type": "code",
   "execution_count": 3,
   "metadata": {},
   "outputs": [
    {
     "data": {
      "text/plain": [
       "list"
      ]
     },
     "execution_count": 3,
     "metadata": {},
     "output_type": "execute_result"
    }
   ],
   "source": [
    "type(sudoku_list)"
   ]
  },
  {
   "cell_type": "code",
   "execution_count": 4,
   "metadata": {},
   "outputs": [
    {
     "name": "stdout",
     "output_type": "stream",
     "text": [
      "<class 'numpy.ndarray'>\n"
     ]
    }
   ],
   "source": [
    "# Import NumPy\n",
    "import numpy as np\n",
    "\n",
    "# Convert sudoku_list into an array\n",
    "sudoku_array = np.array(sudoku_list)\n",
    "\n",
    "# Print the type of sudoku_array \n",
    "print(type(sudoku_array))"
   ]
  },
  {
   "cell_type": "markdown",
   "metadata": {},
   "source": [
    "**Creating arrays from scratch**\n",
    "\n",
    "It can be helpful to know how to create quick NumPy arrays from scratch in order to test your code. For example, when you are doing math with large multi-dimensional arrays, it's nice to check whether the math works as expected on small test arrays before applying your code to the larger arrays. NumPy has many options for creating smaller synthetic arrays.\n",
    "\n",
    "With this in mind, it's time for you to create some arrays from scratch! numpy is imported for you as np."
   ]
  },
  {
   "cell_type": "code",
   "execution_count": null,
   "metadata": {},
   "outputs": [],
   "source": [
    "# Create an array of zeros which has four columns and two rows\n",
    "zero_array = np.zeros((2,4))\n",
    "print(zero_array)"
   ]
  },
  {
   "cell_type": "code",
   "execution_count": null,
   "metadata": {},
   "outputs": [],
   "source": [
    "# Create an array of random floats which has six columns and three rows\n",
    "random_array = np.random.random((3,6))\n",
    "print(random_array)"
   ]
  },
  {
   "cell_type": "markdown",
   "metadata": {},
   "source": [
    "**A range array**\n",
    "\n",
    "np.arange() has especially useful applications in graphing. Your task is to create a scatter plot with the values from doubling_array on the y-axis.\n",
    "\n",
    "```\n",
    "doubling_array = [1, 2, 4, 8, 16, 32, 64, 128, 256, 512]\n",
    "```\n",
    "\n",
    "Recall that a scatter plot can be created using the following code:\n",
    "\n",
    "```\n",
    "plt.scatter(x_values, y_values)\n",
    "plt.show()\n",
    "```\n",
    "\n",
    "With doubling_array on the y-axis, you now need values for the x-axis, which you can create with np.arange()!\n",
    "\n",
    "numpy is loaded for you as np, and matplotlib.pyplot is imported as plt."
   ]
  },
  {
   "cell_type": "code",
   "execution_count": 5,
   "metadata": {},
   "outputs": [
    {
     "data": {
      "image/png": "[encoded data removed]",
      "text/plain": [
       "<Figure size 640x480 with 1 Axes>"
      ]
     },
     "metadata": {},
     "output_type": "display_data"
    }
   ],
   "source": [
    "import matplotlib.pyplot as plt\n",
    "import numpy as np\n",
    "\n",
    "# Create an array of integers from one to ten\n",
    "one_to_ten = np.arange(1,11)\n",
    "doubling_array = np.array([1, 2, 4, 8, 16, 32, 64, 128, 256, 512])\n",
    "\n",
    "# Create your scatterplot\n",
    "plt.scatter(one_to_ten, doubling_array)\n",
    "plt.show()"
   ]
  },
  {
   "cell_type": "markdown",
   "metadata": {},
   "source": [
    "## Array dimensionality"
   ]
  },
  {
   "cell_type": "markdown",
   "metadata": {},
   "source": [
    "**3D array creation**\n",
    "\n",
    "In the first lesson, you created a sudoku_game two-dimensional NumPy array. Perhaps you have hundreds of sudoku game arrays, and you'd like to save the solution for this one, sudoku_solution, as part of the same array as its corresponding game in order to organize your sudoku data better. You could accomplish this by stacking the two 2D arrays on top of each other to create a 3D array."
   ]
  },
  {
   "cell_type": "code",
   "execution_count": 1,
   "metadata": {},
   "outputs": [],
   "source": [
    "import numpy as np"
   ]
  },
  {
   "cell_type": "code",
   "execution_count": 2,
   "metadata": {},
   "outputs": [],
   "source": [
    "sudoku_game = np.array([[0, 0, 4, 3, 0, 0, 2, 0, 9],\n",
    "                [0, 0, 5, 0, 0, 9, 0, 0, 1],\n",
    "                [0, 7, 0, 0, 6, 0, 0, 4, 3],\n",
    "                [0, 0, 6, 0, 0, 2, 0, 8, 7],\n",
    "                [1, 9, 0, 0, 0, 7, 4, 0, 0],\n",
    "                [0, 5, 0, 0, 8, 3, 0, 0, 0],\n",
    "                [6, 0, 0, 0, 0, 0, 1, 0, 5],\n",
    "                [0, 0, 3, 5, 0, 8, 6, 9, 0],\n",
    "                [0, 4, 2, 9, 1, 0, 3, 0, 0]])\n",
    "\n",
    "sudoku_solution = np.array([[8, 6, 4, 3, 7, 1, 2, 5, 9],\n",
    "                    [3, 2, 5, 8, 4, 9, 7, 6, 1],\n",
    "                    [9, 7, 1, 2, 6, 5, 8, 4, 3],\n",
    "                    [4, 3, 6, 1, 9, 2, 5, 8, 7],\n",
    "                    [1, 9, 8, 6, 5, 7, 4, 3, 2],\n",
    "                    [2, 5, 7, 4, 8, 3, 9, 1, 6],\n",
    "                    [6, 8, 9, 7, 3, 4, 1, 2, 5],\n",
    "                    [7, 1, 3, 5, 2, 8, 6, 9, 4],\n",
    "                    [5, 4, 2, 9, 1, 6, 3, 7, 8]])"
   ]
  },
  {
   "cell_type": "code",
   "execution_count": 3,
   "metadata": {},
   "outputs": [
    {
     "name": "stdout",
     "output_type": "stream",
     "text": [
      "(9, 9)\n",
      "(9, 9)\n"
     ]
    }
   ],
   "source": [
    "print(sudoku_game.shape)\n",
    "print(sudoku_solution.shape)"
   ]
  },
  {
   "cell_type": "code",
   "execution_count": 4,
   "metadata": {},
   "outputs": [
    {
     "name": "stdout",
     "output_type": "stream",
     "text": [
      "[[[0 0 4 3 0 0 2 0 9]\n",
      "  [0 0 5 0 0 9 0 0 1]\n",
      "  [0 7 0 0 6 0 0 4 3]\n",
      "  [0 0 6 0 0 2 0 8 7]\n",
      "  [1 9 0 0 0 7 4 0 0]\n",
      "  [0 5 0 0 8 3 0 0 0]\n",
      "  [6 0 0 0 0 0 1 0 5]\n",
      "  [0 0 3 5 0 8 6 9 0]\n",
      "  [0 4 2 9 1 0 3 0 0]]\n",
      "\n",
      " [[8 6 4 3 7 1 2 5 9]\n",
      "  [3 2 5 8 4 9 7 6 1]\n",
      "  [9 7 1 2 6 5 8 4 3]\n",
      "  [4 3 6 1 9 2 5 8 7]\n",
      "  [1 9 8 6 5 7 4 3 2]\n",
      "  [2 5 7 4 8 3 9 1 6]\n",
      "  [6 8 9 7 3 4 1 2 5]\n",
      "  [7 1 3 5 2 8 6 9 4]\n",
      "  [5 4 2 9 1 6 3 7 8]]]\n"
     ]
    }
   ],
   "source": [
    "# Create the game_and_solution 3D array\n",
    "game_and_solution = np.array([sudoku_game, sudoku_solution])\n",
    "\n",
    "# Print game_and_solution\n",
    "print(game_and_solution) "
   ]
  },
  {
   "cell_type": "markdown",
   "metadata": {},
   "source": [
    "**The fourth dimension**\n",
    "\n",
    "Printing arrays is a good way to check code output for small arrays like sudoku_game_and_solution, but it becomes unwieldy when dealing with bigger arrays and those with higher dimensions. Another important check is to look at the array's .shape.\n",
    "\n",
    "Now, you'll create a 4D array that contains two sudoku games and their solutions. numpy is loaded as np. The game_and_solution 3D array you created in the previous example is available, along with new_sudoku_game and new_sudoku_solution."
   ]
  },
  {
   "cell_type": "code",
   "execution_count": 1,
   "metadata": {},
   "outputs": [],
   "source": [
    "import numpy as np"
   ]
  },
  {
   "cell_type": "code",
   "execution_count": 3,
   "metadata": {},
   "outputs": [],
   "source": [
    "# edited/added\n",
    "new_sudoku_game = np.load('/home/cyberx/data_camp_courses/datasets/new_sudoku_game.npy')\n",
    "new_sudoku_solution = np.load('/home/cyberx/data_camp_courses/datasets/new_sudoku_solution.npy')\n",
    "game_and_solution = np.load('/home/cyberx/data_camp_courses/datasets/game_and_solution.npy')"
   ]
  },
  {
   "cell_type": "code",
   "execution_count": 8,
   "metadata": {},
   "outputs": [
    {
     "name": "stdout",
     "output_type": "stream",
     "text": [
      "[[0 0 4 3 0 0 0 0 0]\n",
      " [8 9 0 2 0 0 6 7 0]\n",
      " [7 0 0 9 0 0 0 5 0]\n",
      " [5 0 0 0 0 8 1 4 0]\n",
      " [0 7 0 0 3 2 0 6 0]\n",
      " [6 0 0 0 0 1 3 0 8]\n",
      " [0 0 1 7 5 0 9 0 0]\n",
      " [0 0 5 0 4 0 0 1 2]\n",
      " [9 8 0 0 0 6 0 0 5]]\n"
     ]
    }
   ],
   "source": [
    "print(new_sudoku_game)"
   ]
  },
  {
   "cell_type": "code",
   "execution_count": 9,
   "metadata": {},
   "outputs": [
    {
     "name": "stdout",
     "output_type": "stream",
     "text": [
      "[[2 5 4 3 6 7 8 9 1]\n",
      " [8 9 3 2 1 5 6 7 4]\n",
      " [7 1 6 9 8 4 2 5 3]\n",
      " [5 3 2 6 9 8 1 4 7]\n",
      " [1 7 8 4 3 2 5 6 9]\n",
      " [6 4 9 5 7 1 3 2 8]\n",
      " [4 2 1 7 5 3 9 8 6]\n",
      " [3 6 5 8 4 9 7 1 2]\n",
      " [9 8 7 1 2 6 4 3 5]]\n"
     ]
    }
   ],
   "source": [
    "print(new_sudoku_solution)"
   ]
  },
  {
   "cell_type": "code",
   "execution_count": 10,
   "metadata": {},
   "outputs": [
    {
     "name": "stdout",
     "output_type": "stream",
     "text": [
      "[[[0 0 4 3 0 0 2 0 9]\n",
      "  [0 0 5 0 0 9 0 0 1]\n",
      "  [0 7 0 0 6 0 0 4 3]\n",
      "  [0 0 6 0 0 2 0 8 7]\n",
      "  [1 9 0 0 0 7 4 0 0]\n",
      "  [0 5 0 0 8 3 0 0 0]\n",
      "  [6 0 0 0 0 0 1 0 5]\n",
      "  [0 0 3 5 0 8 6 9 0]\n",
      "  [0 4 2 9 1 0 3 0 0]]\n",
      "\n",
      " [[8 6 4 3 7 1 2 5 9]\n",
      "  [3 2 5 8 4 9 7 6 1]\n",
      "  [9 7 1 2 6 5 8 4 3]\n",
      "  [4 3 6 1 9 2 5 8 7]\n",
      "  [1 9 8 6 5 7 4 3 2]\n",
      "  [2 5 7 4 8 3 9 1 6]\n",
      "  [6 8 9 7 3 4 1 2 5]\n",
      "  [7 1 3 5 2 8 6 9 4]\n",
      "  [5 4 2 9 1 6 3 7 8]]]\n"
     ]
    }
   ],
   "source": [
    "print(game_and_solution)"
   ]
  },
  {
   "cell_type": "code",
   "execution_count": 6,
   "metadata": {},
   "outputs": [
    {
     "name": "stdout",
     "output_type": "stream",
     "text": [
      "(9, 9)\n",
      "(9, 9)\n",
      "(2, 9, 9)\n"
     ]
    }
   ],
   "source": [
    "print(new_sudoku_game.shape)\n",
    "print(new_sudoku_solution.shape)\n",
    "print(game_and_solution.shape)"
   ]
  },
  {
   "cell_type": "code",
   "execution_count": 5,
   "metadata": {},
   "outputs": [
    {
     "name": "stdout",
     "output_type": "stream",
     "text": [
      "(2, 2, 9, 9)\n"
     ]
    }
   ],
   "source": [
    "# Create a second 3D array of another game and its solution \n",
    "new_game_and_solution = np.array([new_sudoku_game, new_sudoku_solution])\n",
    "\n",
    "# Create a 4D array of both game and solution 3D arrays\n",
    "games_and_solutions = np.array([game_and_solution, new_game_and_solution])\n",
    "\n",
    "# Print the shape of your 4D array\n",
    "print(games_and_solutions.shape)"
   ]
  },
  {
   "cell_type": "code",
   "execution_count": 11,
   "metadata": {},
   "outputs": [
    {
     "name": "stdout",
     "output_type": "stream",
     "text": [
      "[[[[0 0 4 3 0 0 2 0 9]\n",
      "   [0 0 5 0 0 9 0 0 1]\n",
      "   [0 7 0 0 6 0 0 4 3]\n",
      "   [0 0 6 0 0 2 0 8 7]\n",
      "   [1 9 0 0 0 7 4 0 0]\n",
      "   [0 5 0 0 8 3 0 0 0]\n",
      "   [6 0 0 0 0 0 1 0 5]\n",
      "   [0 0 3 5 0 8 6 9 0]\n",
      "   [0 4 2 9 1 0 3 0 0]]\n",
      "\n",
      "  [[8 6 4 3 7 1 2 5 9]\n",
      "   [3 2 5 8 4 9 7 6 1]\n",
      "   [9 7 1 2 6 5 8 4 3]\n",
      "   [4 3 6 1 9 2 5 8 7]\n",
      "   [1 9 8 6 5 7 4 3 2]\n",
      "   [2 5 7 4 8 3 9 1 6]\n",
      "   [6 8 9 7 3 4 1 2 5]\n",
      "   [7 1 3 5 2 8 6 9 4]\n",
      "   [5 4 2 9 1 6 3 7 8]]]\n",
      "\n",
      "\n",
      " [[[0 0 4 3 0 0 0 0 0]\n",
      "   [8 9 0 2 0 0 6 7 0]\n",
      "   [7 0 0 9 0 0 0 5 0]\n",
      "   [5 0 0 0 0 8 1 4 0]\n",
      "   [0 7 0 0 3 2 0 6 0]\n",
      "   [6 0 0 0 0 1 3 0 8]\n",
      "   [0 0 1 7 5 0 9 0 0]\n",
      "   [0 0 5 0 4 0 0 1 2]\n",
      "   [9 8 0 0 0 6 0 0 5]]\n",
      "\n",
      "  [[2 5 4 3 6 7 8 9 1]\n",
      "   [8 9 3 2 1 5 6 7 4]\n",
      "   [7 1 6 9 8 4 2 5 3]\n",
      "   [5 3 2 6 9 8 1 4 7]\n",
      "   [1 7 8 4 3 2 5 6 9]\n",
      "   [6 4 9 5 7 1 3 2 8]\n",
      "   [4 2 1 7 5 3 9 8 6]\n",
      "   [3 6 5 8 4 9 7 1 2]\n",
      "   [9 8 7 1 2 6 4 3 5]]]]\n"
     ]
    }
   ],
   "source": [
    "print(games_and_solutions)"
   ]
  },
  {
   "cell_type": "markdown",
   "metadata": {},
   "source": [
    "**Flattening and reshaping**\n",
    "\n",
    "You've learned to change not only array shape but also the number of dimensions that an array has. To test these skills, you'll change sudoku_game from a 2D array to a 1D array and back again. Can we trust NumPy to keep the array elements in the same order after being flattened and reshaped? Time to find out."
   ]
  },
  {
   "cell_type": "code",
   "execution_count": 3,
   "metadata": {},
   "outputs": [
    {
     "name": "stdout",
     "output_type": "stream",
     "text": [
      "(81,)\n"
     ]
    }
   ],
   "source": [
    "# Flatten sudoku_game\n",
    "flattened_game = sudoku_game.flatten()\n",
    "\n",
    "# Print the shape of flattened_game\n",
    "print(flattened_game.shape)"
   ]
  },
  {
   "cell_type": "code",
   "execution_count": null,
   "metadata": {},
   "outputs": [
    {
     "name": "stdout",
     "output_type": "stream",
     "text": [
      "[[0 0 4 3 0 0 2 0 9]\n",
      " [0 0 5 0 0 9 0 0 1]\n",
      " [0 7 0 0 6 0 0 4 3]\n",
      " [0 0 6 0 0 2 0 8 7]\n",
      " [1 9 0 0 0 7 4 0 0]\n",
      " [0 5 0 0 8 3 0 0 0]\n",
      " [6 0 0 0 0 0 1 0 5]\n",
      " [0 0 3 5 0 8 6 9 0]\n",
      " [0 4 2 9 1 0 3 0 0]]\n",
      "\n",
      "[[0 0 4 3 0 0 2 0 9]\n",
      " [0 0 5 0 0 9 0 0 1]\n",
      " [0 7 0 0 6 0 0 4 3]\n",
      " [0 0 6 0 0 2 0 8 7]\n",
      " [1 9 0 0 0 7 4 0 0]\n",
      " [0 5 0 0 8 3 0 0 0]\n",
      " [6 0 0 0 0 0 1 0 5]\n",
      " [0 0 3 5 0 8 6 9 0]\n",
      " [0 4 2 9 1 0 3 0 0]]\n"
     ]
    }
   ],
   "source": [
    "# Reshape flattened_game back to a nine by nine array\n",
    "reshaped_game = flattened_game.reshape((9,9))\n",
    "\n",
    "# Print sudoku_game and reshaped_game\n",
    "print(sudoku_game)\n",
    "print()\n",
    "print(reshaped_game)"
   ]
  },
  {
   "cell_type": "markdown",
   "metadata": {},
   "source": [
    "## NumPy data types"
   ]
  },
  {
   "cell_type": "markdown",
   "metadata": {},
   "source": [
    "**The dtype argument**\n",
    "\n",
    "One way to control the data type of a NumPy array is to declare it when the array is created using the dtype keyword argument. Take a look at the data type NumPy uses by default when creating an array with np.zeros(). Could it be updated?"
   ]
  },
  {
   "cell_type": "code",
   "execution_count": 3,
   "metadata": {},
   "outputs": [],
   "source": [
    "import numpy as np"
   ]
  },
  {
   "cell_type": "code",
   "execution_count": null,
   "metadata": {},
   "outputs": [
    {
     "name": "stdout",
     "output_type": "stream",
     "text": [
      "[[0. 0.]\n",
      " [0. 0.]\n",
      " [0. 0.]]\n",
      "data type: float64\n"
     ]
    }
   ],
   "source": [
    "# Create an array of zeros with three rows and two columns\n",
    "zero_array = np.zeros((3, 2))\n",
    "\n",
    "# Print the data type of zero_array\n",
    "print(zero_array)\n",
    "print(\"data type:\", zero_array.dtype)"
   ]
  },
  {
   "cell_type": "code",
   "execution_count": 10,
   "metadata": {},
   "outputs": [
    {
     "name": "stdout",
     "output_type": "stream",
     "text": [
      "[[0. 0.]\n",
      " [0. 0.]\n",
      " [0. 0.]]\n",
      "data type: int32\n"
     ]
    }
   ],
   "source": [
    "# Create a new array of int32 zeros with three rows and two columns\n",
    "zero_int_array = np.int32(zero_array)\n",
    "\n",
    "# Print the data type of zero_int_array\n",
    "print(zero_array)\n",
    "print(\"data type:\", zero_int_array.dtype)"
   ]
  },
  {
   "cell_type": "markdown",
   "metadata": {},
   "source": [
    "**Anticipating data types**\n",
    "\n",
    "Anticipating what data type an array will have is very important since some NumPy functionality only works with certain data types. Let's see what you've got.\n",
    "\n",
    "***Answer:***\n",
    "\n",
    "<img title=\"Answer Data Type\" alt=\"Alt text\" src=\"/home/cyberx/data_camp_courses/images/Screenshot 2024-11-11 154855.png\">"
   ]
  },
  {
   "cell_type": "code",
   "execution_count": null,
   "metadata": {},
   "outputs": [
    {
     "name": "stdout",
     "output_type": "stream",
     "text": [
      "[34.62 70.13  9.  ]\n",
      "float64\n"
     ]
    }
   ],
   "source": [
    "# An float data type\n",
    "num1 = np.array([34.62, 70.13, 9])\n",
    "\n",
    "print(num1)\n",
    "print(num1.dtype)"
   ]
  },
  {
   "cell_type": "code",
   "execution_count": null,
   "metadata": {},
   "outputs": [
    {
     "name": "stdout",
     "output_type": "stream",
     "text": [
      "[34 70  9]\n",
      "int64\n"
     ]
    }
   ],
   "source": [
    "# An float data type change to integer64 data type\n",
    "new_num1 = np.array([34.62, 70.13, 9]).astype(np.int64)\n",
    "\n",
    "print(new_num1)\n",
    "print(new_num1.dtype)"
   ]
  },
  {
   "cell_type": "code",
   "execution_count": null,
   "metadata": {},
   "outputs": [
    {
     "name": "stdout",
     "output_type": "stream",
     "text": [
      "[45.67  1.  ]\n",
      "float64\n"
     ]
    }
   ],
   "source": [
    "# An float data type\n",
    "num2 = np.array([45.67, True])\n",
    "\n",
    "print(num2)\n",
    "print(num2.dtype)"
   ]
  },
  {
   "cell_type": "code",
   "execution_count": 17,
   "metadata": {},
   "outputs": [
    {
     "name": "stdout",
     "output_type": "stream",
     "text": [
      "[45  1]\n",
      "int8\n"
     ]
    }
   ],
   "source": [
    "# An float data type change to integer8 data type\n",
    "new_num2 = np.array([45.67, True], dtype=np.int8)\n",
    "\n",
    "print(new_num2)\n",
    "print(new_num2.dtype)"
   ]
  },
  {
   "cell_type": "code",
   "execution_count": 19,
   "metadata": {},
   "outputs": [
    {
     "name": "stdout",
     "output_type": "stream",
     "text": [
      "[[ 6.  15.7]\n",
      " [ 1.   0. ]]\n",
      "float64\n"
     ]
    }
   ],
   "source": [
    "# An float data type\n",
    "num3 = np.array([[6, 15.7], [True, False]])\n",
    "\n",
    "print(num3)\n",
    "print(num3.dtype)"
   ]
  },
  {
   "cell_type": "code",
   "execution_count": 20,
   "metadata": {},
   "outputs": [
    {
     "name": "stdout",
     "output_type": "stream",
     "text": [
      "['78.988' 'NumPy' 'True']\n",
      "<U32\n"
     ]
    }
   ],
   "source": [
    "# An float data type\n",
    "num4 = np.array([78.988, \"NumPy\", True])\n",
    "\n",
    "print(num4)\n",
    "print(num4.dtype)"
   ]
  },
  {
   "cell_type": "code",
   "execution_count": 21,
   "metadata": {},
   "outputs": [
    {
     "name": "stdout",
     "output_type": "stream",
     "text": [
      "['9.0' '1.12' '1.0']\n",
      "<U5\n"
     ]
    }
   ],
   "source": [
    "# An float data type\n",
    "num5 = np.array([9, 1.12, True]).astype(\"<U5\")\n",
    "\n",
    "print(num5)\n",
    "print(num5.dtype)"
   ]
  },
  {
   "cell_type": "markdown",
   "metadata": {},
   "source": [
    "**A smaller sudoku game**\n",
    "\n",
    "NumPy data types, which emphasize speed, are more specific than Python data types, which emphasize flexibility. When working with large amounts of data in NumPy, it's good practice to check the data type and consider whether a smaller data type is large enough for your data, since smaller data types use less memory.\n",
    "\n",
    "It's time to make your sudoku game more memory-efficient using your knowledge of data types! sudoku_game has been loaded for you as a NumPy array. numpy is imported as np."
   ]
  },
  {
   "cell_type": "code",
   "execution_count": 22,
   "metadata": {},
   "outputs": [],
   "source": [
    "sudoku_game = np.load(\"/home/cyberx/data_camp_courses/datasets/sudoku_game.npy\")"
   ]
  },
  {
   "cell_type": "code",
   "execution_count": 25,
   "metadata": {},
   "outputs": [
    {
     "name": "stdout",
     "output_type": "stream",
     "text": [
      "[[0 0 5 0 0 9 0 0 1]\n",
      " [0 7 0 0 6 0 0 4 3]\n",
      " [0 0 6 0 0 2 0 8 7]\n",
      " [1 9 0 0 0 7 4 0 0]\n",
      " [0 5 0 0 8 3 0 0 0]\n",
      " [6 0 0 0 0 0 1 0 5]\n",
      " [0 0 3 5 0 8 6 9 0]\n",
      " [0 4 2 9 1 0 3 0 0]]\n",
      "Data Type: int64\n"
     ]
    }
   ],
   "source": [
    "# Print the data type of sudoku_game\n",
    "print(sudoku_game)\n",
    "print(\"Data Type:\", sudoku_game.dtype)"
   ]
  },
  {
   "cell_type": "markdown",
   "metadata": {},
   "source": [
    "***Question***\n",
    "\n",
    "The current data type of sudoku_game is int64. Which of the following NumPy integers is the smallest bitsize that is still large enough to hold the data in sudoku_game? If you have never played sudoku, know that sudoku games only ever store integers from one to nine."
   ]
  },
  {
   "cell_type": "markdown",
   "metadata": {},
   "source": [
    "***Answer:***\n",
    "\n",
    "np.int8"
   ]
  },
  {
   "cell_type": "code",
   "execution_count": 26,
   "metadata": {},
   "outputs": [
    {
     "name": "stdout",
     "output_type": "stream",
     "text": [
      "int64\n",
      "int8\n"
     ]
    }
   ],
   "source": [
    "# Print the data type of sudoku_game\n",
    "print(sudoku_game.dtype)\n",
    "\n",
    "# Change the data type of sudoku_game to int8\n",
    "small_sudoku_game = sudoku_game.astype(np.int8)\n",
    "\n",
    "# Print the data type of small_sudoku_game\n",
    "print(small_sudoku_game.dtype)"
   ]
  },
  {
   "cell_type": "markdown",
   "metadata": {},
   "source": [
    "## Indexing and slicing arrays"
   ]
  },
  {
   "cell_type": "markdown",
   "metadata": {},
   "source": [
    "**Slicing and indexing trees**\n",
    "\n",
    "Imagine you are a researcher working with data from New York City's tree census. Each row of the tree_census 2D array lists information for a different tree: the tree ID, block ID, trunk diameter, and stump diameter in that order. Living trees do not have stump diameters, which explains why there are so many zeros in that column. Column order is important because NumPy does not have column names! The first and last three rows of tree_census are shown below.\n",
    "\n",
    "```\n",
    "array([[     3, 501451,     24,      0],\n",
    "       [     4, 501451,     20,      0],\n",
    "       [     7, 501911,      3,      0],\n",
    "       ...,\n",
    "       [  1198, 227387,     11,      0],\n",
    "       [  1199, 227387,     11,      0],\n",
    "       [  1210, 227386,      6,      0]])\n",
    "```\n",
    "\n",
    "In this exercise, you'll be working specifically with the second column, representing block IDs: your research requires you to select specific city blocks for further analysis using NumPy slicing and indexing. numpy is loaded as np, and the tree_census 2D array is available."
   ]
  },
  {
   "cell_type": "code",
   "execution_count": 1,
   "metadata": {},
   "outputs": [],
   "source": [
    "import numpy as np"
   ]
  },
  {
   "cell_type": "code",
   "execution_count": 2,
   "metadata": {},
   "outputs": [],
   "source": [
    "tree_census = np.load('/home/cyberx/data_camp_courses/datasets/tree_census.npy')"
   ]
  },
  {
   "cell_type": "code",
   "execution_count": 4,
   "metadata": {},
   "outputs": [
    {
     "name": "stdout",
     "output_type": "stream",
     "text": [
      "[501451 501451 501911 501911 501911 501911 501911 501911 501911 501911\n",
      " 501911 501911 501909 501909 501909 501909 501909 501909 501909 501967\n",
      " 501967 501967 501134 501134 501134 501134 501134 501134 501134 501134\n",
      " 501966 501966 501966 501966 501966 501966 500846 500846 500846 500846\n",
      " 500846 500846 500836 500836 500836 500836 500836 500836 500836 500836\n",
      " 500836 500836 500836 501882 501882 501882 501882 501882 501882 501882\n",
      " 501882 501882 501882 501113 501113 501113 501113 501113 500917 500917\n",
      " 500917 501323 501323 501323 501323 501323 501323 501323 501451 501451\n",
      " 516296 516296 516296 516296 516296 516296 516296 516296 516296 516296\n",
      " 516296 516296 516296 516296 503178 503178 503178 503178 503178 503178\n",
      " 501451 501451 501451 501451 501451 501451 501451 501451 501451 501874\n",
      " 501874 501874 501874 501874 501874 501874 501874 501874 501874 501874\n",
      " 501874 501874 501874 501874 501874 501874 501874 501874 501874 501874\n",
      " 501874 501874 501874 501874 501874 501874 501874 501874 501874 501874\n",
      " 501874 501874 501874 501874 501874 501874 501874 501874 501942 501942\n",
      " 501942 501942 314009 314009 314009 314009 314009 314009 314009 314009\n",
      " 314009 314009 314009 314009 314009 314009 314009 314009 314009 314009\n",
      " 314009 314009 314009 314009 314009 501867 501867 501841 501841 501841\n",
      " 501892 501892 501892 501892 501892 501892 501892 501892 501892 501892\n",
      " 501892 501892 501892 501892 501892 501892 501892 501892 501897 501897\n",
      " 501897 501897 501897 501897 501897 501897 501897 501897 501897 501897\n",
      " 501897 501897 501897 501897 501897 501897 501897 501897 501897 501893\n",
      " 501893 501893 501893 501893 501893 501893 501893 501893 501893 501893\n",
      " 501893 107255 107255 107255 107255 413051 413051 413051 413051 413051\n",
      " 413051 413051 413051 413051 413051 413051 413051 413051 413051 413051\n",
      " 413051 413051 413051 413051 413051 413051 413051 413051 413051 413051\n",
      " 413051 413052 413052 413052 413052 413052 413052 413052 413052 107288\n",
      " 107288 107288 413086 413086 413086 413086 413086 413086 413086 413086\n",
      " 413086 413086 207803 207803 207803 207803 207803 207803 207803 207803\n",
      " 207803 107278 107278 107278 107188 107188 107188 107188 107188 207088\n",
      " 207088 207088 207088 107256 107256 107256 207945 207945 207945 207945\n",
      " 207945 207112 207112 207112 507568 507568 507568 107277 107277 107277\n",
      " 107277 107277 107277 107277 107277 107285 107285 107285 107285 207802\n",
      " 207802 207802 207041 207041 207041 207041 207041 516271 516271 516271\n",
      " 516271 516271 516271 207199 207199 207199 207199 207199 207199 207199\n",
      " 207199 207199 207199 507598 507598 207201 207201 507613 507613 507613\n",
      " 507613 507599 507599 507599 507599 507599 507599 507599 507599 507599\n",
      " 507599 207200 207200 207200 207200 207200 207200 207200 207200 207200\n",
      " 207200 207200 207200 207200 507614 507614 507539 507539 507539 507539\n",
      " 507539 507539 507615 507615 507615 507615 507615 507615 343368 343368\n",
      " 349684 349684 349684 349687 349687 349687 349687 342452 342452 342452\n",
      " 342452 342453 342453 342453 342453 344023 344023 344023 344023 344023\n",
      " 344023 344023 342454 342454 342454 342454 342454 342454 349688 349688\n",
      " 349688 349688 349688 349688 349688 349688 349688 349688 349688 349688\n",
      " 349688 349688 349688 349688 342455 342455 342455 342455 342455 342456\n",
      " 342456 342457 342457 342457 342457 342457 342457 324495 324495 324495\n",
      " 324495 324495 324495 324495 324495 324495 324495 324495 324495 324495\n",
      " 324495 324495 324495 324495 324495 324495 324495 324495 324495 342458\n",
      " 342458 342458 342458 342458 342458 342458 400788 400788 400788 400788\n",
      " 400788 400788 400788 400788 400788 400788 400788 400788 400787 400787\n",
      " 400787 400787 400787 400787 400787 400787 400787 400787 400787 400787\n",
      " 400787 344037 344037 344037 344037 344037 344037 344037 344037 344037\n",
      " 400789 400789 400789 400789 400789 400789 400789 400789 324274 324274\n",
      " 324274 324274 324274 344033 344033 344033 344033 344033 324275 324275\n",
      " 324275 344034 344034 344034 324346 324346 324346 324346 324346 506799\n",
      " 506799 506799 506799 506799 506799 506799 506799 506799 506799 506799\n",
      " 330413 330413 330413 330413 330413 330413 324345 324345 324345 324345\n",
      " 506834 506834 506834 506834 506834 342451 342451 342451 342451 342451\n",
      " 342449 342449 342449 342449 342449 342447 342447 342447 342447 342447\n",
      " 342450 342450 342450 342450 342450 342448 342448 342448 342448 342448\n",
      " 342446 342446 342446 342446 342446 506915 506915 506894 506894 506894\n",
      " 506894 507002 507002 507002 507002 104039 104039 104039 104039 104039\n",
      " 104039 104039 506912 506912 506912 506912 506912 506912 506912 506912\n",
      " 104054 104054 104054 506891 506891 506891 506891 506891 506891 506891\n",
      " 506891 342425 342425 342425 342425 104076 104076 104076 104076 104076\n",
      " 104076 104076 104076 104076 104000 104000 104000 342424 342424 342424\n",
      " 342424 342426 342426 342426 342426 104053 104053 104053 104121 104121\n",
      " 104121 104121 104121 104121 104121 104121 104121 104121 104121 104121\n",
      " 104121 104121 104121 104121 506856 506856 506856 342445 342445 342445\n",
      " 342445 342445 342445 506892 506892 506892 506892 342423 342423 342423\n",
      " 342423 342427 342427 342427 342427 342421 342421 342421 342421 104056\n",
      " 104056 104065 104065 104065 104065 104065 104065 104065 104065 104065\n",
      " 104065 104065 104065 104065 104065 104065 104115 104115 104115 104115\n",
      " 342429 342429 342429 342429 342422 342422 342422 342422 104021 104021\n",
      " 104021 104021 104021 104021 104021 104021 104021 342428 342428 342428\n",
      " 104119 104119 104119 104119 104119 104119 104119 104119 506893 506893\n",
      " 506893 506893 506893 506893 506893 506893 506893 104116 104116 104116\n",
      " 104116 104116 104116 104116 104116 104116 104116 104116 104116 104116\n",
      " 507003 507003 507003 507003 507003 507003 507003 507003 507003 507003\n",
      " 507003 507000 104023 104023 104023 104023 104023 104023 104023 104023\n",
      " 506854 506854 506854 506854 506854 506854 506853 506853 506853 506853\n",
      " 506853 506853 506853 506853 506853 506853 506853 506853 324945 324945\n",
      " 324945 324945 324945 324945 104110 104110 104110 104110 104110 104110\n",
      " 104110 104110 104110 104110 104110 104110 104111 104111 104036 104036\n",
      " 104036 104036 215628 215628 215628 215628 215628 215628 215628 215628\n",
      " 215628 215628 215628 215628 215628 207983 207983 207983 207983 207983\n",
      " 207983 207983 207983 207983 207983 208020 208020 208020 208020 208015\n",
      " 208015 208015 208015 208015 208015 208015 208015 208015 208015 208015\n",
      " 208015 208015 208019 208019 208019 208019 208019 208019 208018 208018\n",
      " 208018 208018 208018 208018 208018 208018 208018 208017 208017 208021\n",
      " 208021 208021 208021 208021 208021 208021 208021 208021 208021 208021\n",
      " 208021 208021 208021 208021 208021 208021 315272 315272 315272 315272\n",
      " 315272 313879 313879 316220 316220 316220 316220 316220 316220 316220\n",
      " 316220 316220 316220 316220 312797 312797 312797 312797 312797 312797\n",
      " 312797 312797 312797 312797 312797 312797 226868 226868 226868 226868\n",
      " 226868 312799 312799 312799 312799 312799 312799 312799 312799 312799\n",
      " 312799 312799 312799 316377 316377 316377 316377 316377 316377 316221\n",
      " 314490 314490 314490 314490 314490 314490 314490 314490 314490 314489\n",
      " 314489 314489 314489 314489 226833 226833 226833 226832 226832 226832\n",
      " 226832 350037 350037 350037 227387 227387 227387 227387 227387 227386]\n"
     ]
    }
   ],
   "source": [
    "# Select all rows of block ID data from the second column\n",
    "block_ids = tree_census[:, 1]\n",
    "print(block_ids)"
   ]
  },
  {
   "cell_type": "code",
   "execution_count": 5,
   "metadata": {},
   "outputs": [
    {
     "name": "stdout",
     "output_type": "stream",
     "text": [
      "[501451 501451 501911 501911 501911]\n"
     ]
    }
   ],
   "source": [
    "# Print the first five block_ids\n",
    "print(block_ids[0:5])"
   ]
  },
  {
   "cell_type": "code",
   "execution_count": null,
   "metadata": {},
   "outputs": [
    {
     "name": "stdout",
     "output_type": "stream",
     "text": [
      "501911\n"
     ]
    }
   ],
   "source": [
    "# Select the tenth block ID from block_ids\n",
    "tenth_block_id = block_ids[9]\n",
    "print(tenth_block_id)"
   ]
  },
  {
   "cell_type": "code",
   "execution_count": 7,
   "metadata": {},
   "outputs": [
    {
     "name": "stdout",
     "output_type": "stream",
     "text": [
      "[501911 501911 501911 501909 501909]\n"
     ]
    }
   ],
   "source": [
    "# Select five block IDs from block_ids starting with the tenth ID\n",
    "block_id_slice = block_ids[9:14]\n",
    "print(block_id_slice)"
   ]
  },
  {
   "cell_type": "markdown",
   "metadata": {},
   "source": [
    "**Stepping into 2D**\n",
    "\n",
    "Now assume that your research requires you to take an admittedly unrepresentative sample of trunk diameters, which are located in the third column of tree_census. Getting just a selection of trunk diameters can be done with NumPy's slicing and stepping functionality."
   ]
  },
  {
   "cell_type": "code",
   "execution_count": null,
   "metadata": {},
   "outputs": [
    {
     "name": "stdout",
     "output_type": "stream",
     "text": [
      "[24 20  3  3  4  4  4  4  4  3  3  4  2  2  3  4  4  4  0 14  3  4  7  8\n",
      "  7  8  7  5  6  5  5 17  0 19 21 18  4  5  3  4  3  4 13 13 13  5  4  4\n",
      "  4 11  5  4  5  8 51  7  4 15  3  8  6  6  3  4  3  2  3  3  6  5  5  5\n",
      "  5  9  4  4  7  7  6  5  4  4  5  5  5  7  3  5  3  3  6  6  8  7  4  5\n",
      "  4  4  4  4]\n",
      "Total Angka: 100\n"
     ]
    }
   ],
   "source": [
    "# Create an array of the first 100 trunk diameters from tree_census\n",
    "hundred_diameters = tree_census[:100, 2]\n",
    "print(hundred_diameters)\n",
    "print(\"Total Angka:\", len(hundred_diameters))"
   ]
  },
  {
   "cell_type": "code",
   "execution_count": 25,
   "metadata": {},
   "outputs": [
    {
     "name": "stdout",
     "output_type": "stream",
     "text": [
      "[ 5  5 51  4  3  6  3  3  3  6  5  5  4  7  6  4  5  5  3  3  6  8  4  4\n",
      "  4  6]\n",
      "Total Angka: 26\n"
     ]
    }
   ],
   "source": [
    "# Create an array of trunk diameters with even row indices from 50 to 100 inclusive\n",
    "every_other_diameter = tree_census[50:101:2, 2]\n",
    "print(every_other_diameter)\n",
    "print(\"Total Angka:\", len(every_other_diameter))"
   ]
  },
  {
   "cell_type": "markdown",
   "metadata": {},
   "source": [
    "**Sorting trees**\n",
    "\n",
    "Sometimes it's easiest to understand data when it is sorted according to the value you are most interested in. Your new research task is to create an array containing the trunk diameters in the New York City tree census, sorted in order from smallest to largest."
   ]
  },
  {
   "cell_type": "code",
   "execution_count": 28,
   "metadata": {},
   "outputs": [
    {
     "name": "stdout",
     "output_type": "stream",
     "text": [
      "[ 0  0  0  0  0  0  0  0  0  0  0  0  0  0  0  0  0  0  0  0  0  0  0  0\n",
      "  0  0  0  0  0  0  0  0  0  0  0  0  1  1  1  1  1  1  2  2  2  2  2  2\n",
      "  2  2  2  2  2  2  2  2  2  2  2  2  2  2  2  2  2  2  2  2  2  2  2  2\n",
      "  2  2  2  2  2  2  2  2  2  2  2  2  2  2  2  2  2  2  2  2  2  2  2  2\n",
      "  2  2  2  2  2  2  2  2  3  3  3  3  3  3  3  3  3  3  3  3  3  3  3  3\n",
      "  3  3  3  3  3  3  3  3  3  3  3  3  3  3  3  3  3  3  3  3  3  3  3  3\n",
      "  3  3  3  3  3  3  3  3  3  3  3  3  3  3  3  3  3  3  3  3  3  3  3  3\n",
      "  3  3  3  3  3  3  3  3  3  3  3  3  3  3  3  3  3  3  3  3  4  4  4  4\n",
      "  4  4  4  4  4  4  4  4  4  4  4  4  4  4  4  4  4  4  4  4  4  4  4  4\n",
      "  4  4  4  4  4  4  4  4  4  4  4  4  4  4  4  4  4  4  4  4  4  4  4  4\n",
      "  4  4  4  4  4  4  4  4  4  4  4  4  4  4  4  4  4  4  4  4  4  4  4  4\n",
      "  4  4  4  4  4  4  4  4  4  4  4  4  4  4  4  4  4  4  4  4  4  4  4  4\n",
      "  4  4  4  4  4  4  4  4  5  5  5  5  5  5  5  5  5  5  5  5  5  5  5  5\n",
      "  5  5  5  5  5  5  5  5  5  5  5  5  5  5  5  5  5  5  5  5  5  5  5  5\n",
      "  5  5  5  5  5  5  5  5  5  5  5  5  5  5  5  5  5  5  5  5  5  5  5  5\n",
      "  5  5  5  5  5  5  5  5  5  5  6  6  6  6  6  6  6  6  6  6  6  6  6  6\n",
      "  6  6  6  6  6  6  6  6  6  6  6  6  6  6  6  6  6  6  6  6  6  6  6  6\n",
      "  6  6  6  6  6  6  6  6  6  6  6  6  6  6  6  6  6  7  7  7  7  7  7  7\n",
      "  7  7  7  7  7  7  7  7  7  7  7  7  7  7  7  7  7  7  7  7  7  7  7  7\n",
      "  7  7  7  7  7  7  7  7  7  7  7  7  7  7  7  7  7  7  7  7  8  8  8  8\n",
      "  8  8  8  8  8  8  8  8  8  8  8  8  8  8  8  8  8  8  8  8  8  8  8  8\n",
      "  8  8  8  8  8  8  8  8  9  9  9  9  9  9  9  9  9  9  9  9  9  9  9  9\n",
      "  9  9  9  9  9  9  9  9  9  9  9  9  9  9  9  9  9  9  9  9  9  9  9  9\n",
      "  9 10 10 10 10 10 10 10 10 10 10 10 10 10 10 10 10 10 10 10 10 10 10 10\n",
      " 10 10 10 10 10 10 10 11 11 11 11 11 11 11 11 11 11 11 11 11 11 11 11 11\n",
      " 11 11 11 11 11 11 11 11 11 11 11 11 11 11 11 11 11 11 11 11 11 11 11 11\n",
      " 11 11 11 11 11 11 11 11 11 11 11 11 11 11 11 12 12 12 12 12 12 12 12 12\n",
      " 12 12 12 12 12 12 12 12 12 12 12 12 12 12 12 12 12 12 12 12 12 12 12 12\n",
      " 12 12 12 12 12 12 12 12 12 12 13 13 13 13 13 13 13 13 13 13 13 13 13 13\n",
      " 13 13 13 13 13 13 13 13 13 13 13 13 13 13 13 13 13 13 13 13 13 13 14 14\n",
      " 14 14 14 14 14 14 14 14 14 14 14 14 14 14 14 14 14 14 14 14 14 14 14 14\n",
      " 14 14 14 14 14 14 14 14 14 14 15 15 15 15 15 15 15 15 15 15 15 15 15 15\n",
      " 15 15 15 15 15 15 15 15 15 15 15 15 15 15 15 15 15 15 15 15 15 16 16 16\n",
      " 16 16 16 16 16 16 16 16 16 16 16 16 16 16 16 16 17 17 17 17 17 17 17 17\n",
      " 17 17 17 17 17 17 17 17 17 17 17 17 17 17 17 17 17 17 17 17 17 18 18 18\n",
      " 18 18 18 18 18 18 18 18 18 18 18 18 18 18 18 18 18 18 18 18 18 18 18 18\n",
      " 19 19 19 19 19 19 19 19 19 19 19 19 19 19 19 19 19 19 19 19 19 19 19 19\n",
      " 19 19 19 20 20 20 20 20 20 20 20 20 20 20 20 20 20 20 20 20 20 20 20 20\n",
      " 20 20 21 21 21 21 21 21 21 21 21 21 21 21 21 21 21 21 21 21 21 22 22 22\n",
      " 22 22 22 22 22 22 22 22 22 22 22 22 22 22 23 23 23 23 23 23 23 23 23 23\n",
      " 23 24 24 24 24 24 24 24 24 25 25 25 25 25 25 25 25 25 25 25 26 26 26 26\n",
      " 26 26 27 27 27 28 28 28 30 30 33 34 38 39 44 51]\n",
      "\n",
      "Total Angka: 1000\n"
     ]
    }
   ],
   "source": [
    "# Extract trunk diameters information and sort from smallest to largest\n",
    "sorted_trunk_diameters = np.sort(tree_census[:,2], axis=0)\n",
    "print(sorted_trunk_diameters)\n",
    "print(\"\")\n",
    "print(\"Total Angka:\", len(sorted_trunk_diameters))"
   ]
  },
  {
   "cell_type": "markdown",
   "metadata": {},
   "source": [
    "## Filtering arrays"
   ]
  },
  {
   "cell_type": "markdown",
   "metadata": {},
   "source": [
    "**Filtering with masks**\n",
    "\n",
    "In the last lesson, you sorted trees from smallest to largest. Now, you'll use fancy indexing to return the row of data representing the largest tree in tree_census. You'll also examine other trees located on the same block as the largest tree: are they also large?\n",
    "\n",
    "numpy is loaded as np, and the tree_census array is available. As a reminder, the tree_census columns in order refer to a tree's ID, its block ID, its trunk diameter, and its stump diameter."
   ]
  },
  {
   "cell_type": "code",
   "execution_count": 1,
   "metadata": {},
   "outputs": [],
   "source": [
    "import numpy as np"
   ]
  },
  {
   "cell_type": "code",
   "execution_count": 2,
   "metadata": {},
   "outputs": [],
   "source": [
    "tree_census = np.load('/home/cyberx/data_camp_courses/datasets/tree_census.npy')"
   ]
  },
  {
   "cell_type": "code",
   "execution_count": 3,
   "metadata": {},
   "outputs": [
    {
     "data": {
      "text/plain": [
       "array([[     3, 501451,     24,      0],\n",
       "       [     4, 501451,     20,      0],\n",
       "       [     7, 501911,      3,      0],\n",
       "       ...,\n",
       "       [  1198, 227387,     11,      0],\n",
       "       [  1199, 227387,     11,      0],\n",
       "       [  1210, 227386,      6,      0]])"
      ]
     },
     "execution_count": 3,
     "metadata": {},
     "output_type": "execute_result"
    }
   ],
   "source": [
    "tree_census"
   ]
  },
  {
   "cell_type": "code",
   "execution_count": null,
   "metadata": {},
   "outputs": [
    {
     "name": "stdout",
     "output_type": "stream",
     "text": [
      "[[    61 501882     51      0]]\n"
     ]
    }
   ],
   "source": [
    "# Create an array which contains row data on the largest tree in tree_census\n",
    "\"\"\"Using Boolean indexing, create an array, \n",
    "largest_tree_data, which contains the row of data on the largest tree \n",
    "in tree_census corresponding to the tree with a diameter of 51.\n",
    "\"\"\"\n",
    "\n",
    "largest_tree_data = tree_census[tree_census[:, 2] == 51]\n",
    "print(largest_tree_data)"
   ]
  },
  {
   "cell_type": "code",
   "execution_count": 6,
   "metadata": {},
   "outputs": [
    {
     "name": "stdout",
     "output_type": "stream",
     "text": [
      "[501882]\n"
     ]
    }
   ],
   "source": [
    "# Slice largest_tree_data to get only the block ID\n",
    "largest_tree_block_id = largest_tree_data[:, 1]\n",
    "print(largest_tree_block_id)"
   ]
  },
  {
   "cell_type": "code",
   "execution_count": 7,
   "metadata": {},
   "outputs": [
    {
     "name": "stdout",
     "output_type": "stream",
     "text": [
      "[[    60 501882      8      0]\n",
      " [    61 501882     51      0]\n",
      " [    62 501882      7      0]\n",
      " [    63 501882      4      0]\n",
      " [    64 501882     15      0]\n",
      " [    65 501882      3      0]\n",
      " [    66 501882      8      0]\n",
      " [    67 501882      6      0]\n",
      " [    68 501882      6      0]\n",
      " [    69 501882      3      0]]\n"
     ]
    }
   ],
   "source": [
    "# Create an array which contains row data on all trees with largest_tree_block_id\n",
    "trees_on_largest_tree_block = tree_census[tree_census[:, 1] == largest_tree_block_id]\n",
    "print(trees_on_largest_tree_block)"
   ]
  },
  {
   "cell_type": "markdown",
   "metadata": {},
   "source": [
    "**Fancy indexing vs. np.where()**\n",
    "\n",
    "You and your tree research team are double-checking collection data by visiting a few trees in person to confirm their measurements. You've been assigned to check the data for trees on block 313879, and you'd like to make a small array of just the tree data that relates to your work.\n",
    "\n",
    "numpy is loaded as np, and the tree_census array is available. As a reminder, the tree_census columns in order refer to a tree's ID, its block ID, its trunk diameter, and its stump diameter."
   ]
  },
  {
   "cell_type": "code",
   "execution_count": 8,
   "metadata": {},
   "outputs": [
    {
     "name": "stdout",
     "output_type": "stream",
     "text": [
      "[[  1115 313879      3      0]\n",
      " [  1116 313879     17      0]]\n"
     ]
    }
   ],
   "source": [
    "# Create the block_313879 array containing trees on block 313879\n",
    "block_313879 = tree_census[tree_census[:, 1] == 313879]\n",
    "print(block_313879)"
   ]
  },
  {
   "cell_type": "code",
   "execution_count": 11,
   "metadata": {},
   "outputs": [
    {
     "name": "stdout",
     "output_type": "stream",
     "text": [
      "[[  1115 313879      3      0]\n",
      " [  1116 313879     17      0]]\n"
     ]
    }
   ],
   "source": [
    "# Create an array of row_indices for trees on block 313879\n",
    "row_indices = np.where(tree_census[:, 1] == 313879)\n",
    "\n",
    "# Create an array which only contains data for trees on block 313879\n",
    "block_313879 = tree_census[row_indices]\n",
    "print(block_313879)"
   ]
  },
  {
   "cell_type": "markdown",
   "metadata": {},
   "source": [
    "**Creating arrays from conditions**\n",
    "\n",
    "Currently, the stump diameter and trunk diameter values in tree_census are in two different columns. Living trees have a stump diameter of zero while stumps have a trunk diameter of zero. If you'd like to include both living trees and stumps in certain research calculations, it might be useful to have their diameters together in just one column."
   ]
  },
  {
   "cell_type": "code",
   "execution_count": 37,
   "metadata": {},
   "outputs": [
    {
     "name": "stdout",
     "output_type": "stream",
     "text": [
      "[24 20  3  3  4  4  4  4  4  3  3  4  2  2  3  4  4  4  3 14  3  4  7  8\n",
      "  7  8  7  5  6  5  5 17 31 19 21 18  4  5  3  4  3  4 13 13 13  5  4  4\n",
      "  4 11  5  4  5  8 51  7  4 15  3  8  6  6  3  4  3  2  3  3  6  5  5  5\n",
      "  5  9  4  4  7  7  6  5  4  4  5  5  5  7  3  5  3  3  6  6  8  7  4  5\n",
      "  4  4  4  4  6  5  3  4 12 12 12  5  6  6  6  6  6  5  5  6  7  7 25  5\n",
      "  5  4  6  6  7 11  6 17 13 14 14 20 15 13  7  7 10 17 14  4  6  7  8  7\n",
      "  7  6  7  5  2  2  2  2 26 25  2 15  6 20  5  9 15 13 15  3  2 13  6 12\n",
      " 15 18 22 18 18 15 17  7  3  7  8  4 12 11 12  3  9 12 11 10  8  6  6  7\n",
      "  7  3 15 12 12  4  5  5  5  4  4  5  4  9  2  4  4  6  5  5  2  5  5  4\n",
      "  4  5  5  6 11  4  5  7  3 14 11 10  7 15 10  5  6 10 10  6  5  4  4  3\n",
      "  5  4 14 12 11  8 14 12  9 12 11  7  8 10 10 12 11 12  5  5  6  9  9  8\n",
      "  5  5  5  6  6 12 12 11 12  8  9  5  5  5  8  2  2  2 14 18 14 14 22 15\n",
      " 19 14 18  7  7  7  8  8  5 10 14  2  2  2  2 11 12 12  3  3  3  3  3  6\n",
      "  6  8  2  2 11 11 11  9 11 12 13  9 11  6  4  5  5  2  2  8 10  7  9 11\n",
      " 11  1  2 26  4 13  2  4  3  4  4  4  4  3  4  2  2 12 13  5  4  2  3  3\n",
      " 25 11 11 14 22  2  3 10  2  2 13 19 26 21 19 14 14  5 19 15 11 15  6 19\n",
      " 17 12 13 15 12  2 16  2  2  2 25  2 21  2 15 16 14 13 11  8 11 13 12  7\n",
      " 24 19  3  3  4  6 11 17 19 19 17 15 13 15 27 16 15 20 17 16  4 10  9 14\n",
      " 11 12  8  9  9 13 14  7 11 14  3  7 16 17 13 14 16 12  4  5  3 16 11  9\n",
      "  9 10  8 10 11 11  8 11 11 11  9 11 10  9  5 12 11 13  9 15 16 12  7 10\n",
      "  6  9  5  9  6  6  3  3  5  4  4  4  4  6  4  7  6  7  6  5  7  8 20  9\n",
      " 11 11 10  9 11 12 10 18  7  4  4  4  4  3 19 12  3  4  5  4  4 17 15  8\n",
      "  4  5  6 25  6 11  3  3 15  4 14 12 15  2  3  2 11 11 14 12 15 12  8  9\n",
      "  9  8  7 12 15  4 11 10  6  7  9 38  6  3 15 11  5  4  2 13 21 26  4 18\n",
      " 10 17 20 19 21 19 18 18 17 24 27 22 21  9 17 17 19 28 21 11 23 28  7 33\n",
      " 30  5 26 27 22  2  2  2  3  4  3  3 12 17 15  2  3  3  6  6  6  6 18 13\n",
      " 25 25 22 25 21 19  3  3  3  4  4 19  4  4 24 27 20  3 19  5 12 26 13  7\n",
      " 13  4 20  5 14 20 11  3  4 19  4 17 22 24 15  7  5  4  5  5  4  4  4  8\n",
      "  4  4  7  6 10  8 11  2  9  8  4  3  3  2  2 22 22 24 23 20 21  5  6  7\n",
      "  4  2 15 19 20  4  4  7  2 17 10  3 11  2 10 11  4  4  3 13  3  3  3  3\n",
      "  4  3  3  3 14  3  9  9  9 10 20 14 19 16 22 22 17 18  9  9  7  9  3 14\n",
      " 13 15 16 18 21  3  8  3  9  8 11  9 10  5  5 11 16  3  4  3  4  5  4 10\n",
      " 10 12  9  9 13 11 10  3  3  3  4  3  4  4 10 25  5  5  1 34  1  1  1 15\n",
      " 11 11 13  7  7 12 13  3 17 14 18 15 17 14 13 20  9 11  4  9 13  9 19 20\n",
      "  8  8 20 19 13 44 17 25 14 12 14 15  6  6  7  5  5  5  5  3  9  9 17 13\n",
      "  3 13 20 20 18 18 21 20 19 22 18 21 25 21 21 18 20 18 23 23 23 18 24 22\n",
      "  2  7  2 11 19 21 14 20 13  2 18  2  2 31 25 31 25 11 22  2 18 17 18 21\n",
      " 22 16 16 18 15 23  5  6 13 19  7 16 16 20 15 18  1 15 10 24 18  2  3  2\n",
      " 17 12 14 17 23 18 12 13 23  3 17  8  8  8  4  9 22  2 14 23 20 23  3  7\n",
      "  3  6  4 12  4  4  2  6  4  3 17 19  4 19 15 14 17 20  2 16  3 12 10 11\n",
      "  4 11  4 30  8  4 39  3  7 11 18 22 19 21  7 21  2 16 11 20 21 22  8 16\n",
      "  2 23 14 14 13 20 21 15 19 28 17 16 12 11 11  6]\n"
     ]
    }
   ],
   "source": [
    "# Create and print a 1D array of tree and stump diameters\n",
    "trunk_stump_diameters = np.where(tree_census[:, 2] == 0, tree_census[:, 3], tree_census[:, 2])\n",
    "print(trunk_stump_diameters)"
   ]
  },
  {
   "cell_type": "markdown",
   "metadata": {},
   "source": [
    "## Adding and removing data"
   ]
  },
  {
   "cell_type": "markdown",
   "metadata": {},
   "source": [
    "**Compatible or not?**\n",
    "\n",
    "Before concatenating, it's important to check whether two arrays can be concatenated together. If not, the array may need to be reshaped before concatenation."
   ]
  },
  {
   "cell_type": "markdown",
   "metadata": {},
   "source": [
    "***Answer:***\n",
    "\n",
    "<img title=\"Answer Data Type\" alt=\"Alt text\" src=\"/home/cyberx/data_camp_courses/images/Screenshot 2024-11-12 095446.png\">"
   ]
  },
  {
   "cell_type": "markdown",
   "metadata": {},
   "source": [
    "**Adding rows**\n",
    "\n",
    "The research team has discovered two trees that were left off the tree_census. Your task is to add rows containing the data for these new trees to the end of the tree_census array. The new trees' data is saved in a 2D array called new_trees:\n",
    "```\n",
    "new_trees = np.array([[1211, 227386, 20, 0], [1212, 227386, 8, 0]])\n",
    "```"
   ]
  },
  {
   "cell_type": "code",
   "execution_count": 1,
   "metadata": {},
   "outputs": [],
   "source": [
    "import numpy as np"
   ]
  },
  {
   "cell_type": "code",
   "execution_count": 2,
   "metadata": {},
   "outputs": [],
   "source": [
    "tree_census = np.load('/home/cyberx/data_camp_courses/datasets/tree_census.npy')\n",
    "new_trees = np.array([[1211, 227386, 20, 0], [1212, 227386, 8, 0]])"
   ]
  },
  {
   "cell_type": "code",
   "execution_count": null,
   "metadata": {},
   "outputs": [
    {
     "name": "stdout",
     "output_type": "stream",
     "text": [
      "(1000, 4) (2, 4)\n",
      "\n",
      "\n",
      "[[     3 501451     24      0]\n",
      " [     4 501451     20      0]\n",
      " [     7 501911      3      0]\n",
      " ...\n",
      " [  1210 227386      6      0]\n",
      " [  1211 227386     20      0]\n",
      " [  1212 227386      8      0]]\n"
     ]
    }
   ],
   "source": [
    "# Print the shapes of tree_census and new_trees\n",
    "print(tree_census.shape, new_trees.shape)\n",
    "print(\"\\n\")\n",
    "\n",
    "# Add rows to tree_census which contain data for the new trees\n",
    "updated_tree_census = np.concatenate((tree_census, new_trees))\n",
    "print(updated_tree_census)"
   ]
  },
  {
   "cell_type": "markdown",
   "metadata": {},
   "source": [
    "**Adding columns**\n",
    "\n",
    "You finished the last set of exercises by creating an array called trunk_stump_diameters, which combined data from the trunk diameter and stump diameter columns into a 1D array. Now, you'll add that 1D array as a column to the tree_census array."
   ]
  },
  {
   "cell_type": "code",
   "execution_count": 5,
   "metadata": {},
   "outputs": [
    {
     "name": "stdout",
     "output_type": "stream",
     "text": [
      "[24 20  3  3  4  4  4  4  4  3  3  4  2  2  3  4  4  4  3 14  3  4  7  8\n",
      "  7  8  7  5  6  5  5 17 31 19 21 18  4  5  3  4  3  4 13 13 13  5  4  4\n",
      "  4 11  5  4  5  8 51  7  4 15  3  8  6  6  3  4  3  2  3  3  6  5  5  5\n",
      "  5  9  4  4  7  7  6  5  4  4  5  5  5  7  3  5  3  3  6  6  8  7  4  5\n",
      "  4  4  4  4  6  5  3  4 12 12 12  5  6  6  6  6  6  5  5  6  7  7 25  5\n",
      "  5  4  6  6  7 11  6 17 13 14 14 20 15 13  7  7 10 17 14  4  6  7  8  7\n",
      "  7  6  7  5  2  2  2  2 26 25  2 15  6 20  5  9 15 13 15  3  2 13  6 12\n",
      " 15 18 22 18 18 15 17  7  3  7  8  4 12 11 12  3  9 12 11 10  8  6  6  7\n",
      "  7  3 15 12 12  4  5  5  5  4  4  5  4  9  2  4  4  6  5  5  2  5  5  4\n",
      "  4  5  5  6 11  4  5  7  3 14 11 10  7 15 10  5  6 10 10  6  5  4  4  3\n",
      "  5  4 14 12 11  8 14 12  9 12 11  7  8 10 10 12 11 12  5  5  6  9  9  8\n",
      "  5  5  5  6  6 12 12 11 12  8  9  5  5  5  8  2  2  2 14 18 14 14 22 15\n",
      " 19 14 18  7  7  7  8  8  5 10 14  2  2  2  2 11 12 12  3  3  3  3  3  6\n",
      "  6  8  2  2 11 11 11  9 11 12 13  9 11  6  4  5  5  2  2  8 10  7  9 11\n",
      " 11  1  2 26  4 13  2  4  3  4  4  4  4  3  4  2  2 12 13  5  4  2  3  3\n",
      " 25 11 11 14 22  2  3 10  2  2 13 19 26 21 19 14 14  5 19 15 11 15  6 19\n",
      " 17 12 13 15 12  2 16  2  2  2 25  2 21  2 15 16 14 13 11  8 11 13 12  7\n",
      " 24 19  3  3  4  6 11 17 19 19 17 15 13 15 27 16 15 20 17 16  4 10  9 14\n",
      " 11 12  8  9  9 13 14  7 11 14  3  7 16 17 13 14 16 12  4  5  3 16 11  9\n",
      "  9 10  8 10 11 11  8 11 11 11  9 11 10  9  5 12 11 13  9 15 16 12  7 10\n",
      "  6  9  5  9  6  6  3  3  5  4  4  4  4  6  4  7  6  7  6  5  7  8 20  9\n",
      " 11 11 10  9 11 12 10 18  7  4  4  4  4  3 19 12  3  4  5  4  4 17 15  8\n",
      "  4  5  6 25  6 11  3  3 15  4 14 12 15  2  3  2 11 11 14 12 15 12  8  9\n",
      "  9  8  7 12 15  4 11 10  6  7  9 38  6  3 15 11  5  4  2 13 21 26  4 18\n",
      " 10 17 20 19 21 19 18 18 17 24 27 22 21  9 17 17 19 28 21 11 23 28  7 33\n",
      " 30  5 26 27 22  2  2  2  3  4  3  3 12 17 15  2  3  3  6  6  6  6 18 13\n",
      " 25 25 22 25 21 19  3  3  3  4  4 19  4  4 24 27 20  3 19  5 12 26 13  7\n",
      " 13  4 20  5 14 20 11  3  4 19  4 17 22 24 15  7  5  4  5  5  4  4  4  8\n",
      "  4  4  7  6 10  8 11  2  9  8  4  3  3  2  2 22 22 24 23 20 21  5  6  7\n",
      "  4  2 15 19 20  4  4  7  2 17 10  3 11  2 10 11  4  4  3 13  3  3  3  3\n",
      "  4  3  3  3 14  3  9  9  9 10 20 14 19 16 22 22 17 18  9  9  7  9  3 14\n",
      " 13 15 16 18 21  3  8  3  9  8 11  9 10  5  5 11 16  3  4  3  4  5  4 10\n",
      " 10 12  9  9 13 11 10  3  3  3  4  3  4  4 10 25  5  5  1 34  1  1  1 15\n",
      " 11 11 13  7  7 12 13  3 17 14 18 15 17 14 13 20  9 11  4  9 13  9 19 20\n",
      "  8  8 20 19 13 44 17 25 14 12 14 15  6  6  7  5  5  5  5  3  9  9 17 13\n",
      "  3 13 20 20 18 18 21 20 19 22 18 21 25 21 21 18 20 18 23 23 23 18 24 22\n",
      "  2  7  2 11 19 21 14 20 13  2 18  2  2 31 25 31 25 11 22  2 18 17 18 21\n",
      " 22 16 16 18 15 23  5  6 13 19  7 16 16 20 15 18  1 15 10 24 18  2  3  2\n",
      " 17 12 14 17 23 18 12 13 23  3 17  8  8  8  4  9 22  2 14 23 20 23  3  7\n",
      "  3  6  4 12  4  4  2  6  4  3 17 19  4 19 15 14 17 20  2 16  3 12 10 11\n",
      "  4 11  4 30  8  4 39  3  7 11 18 22 19 21  7 21  2 16 11 20 21 22  8 16\n",
      "  2 23 14 14 13 20 21 15 19 28 17 16 12 11 11  6]\n"
     ]
    }
   ],
   "source": [
    "# Create and print a 1D array of tree and stump diameters\n",
    "trunk_stump_diameters = np.where(tree_census[:, 2] == 0, tree_census[:, 3], tree_census[:, 2])\n",
    "print(trunk_stump_diameters)"
   ]
  },
  {
   "cell_type": "code",
   "execution_count": 6,
   "metadata": {},
   "outputs": [
    {
     "name": "stdout",
     "output_type": "stream",
     "text": [
      "(1000,) (1000, 4)\n"
     ]
    }
   ],
   "source": [
    "# Print the shapes of tree_census and trunk_stump_diameters\n",
    "print(trunk_stump_diameters.shape, tree_census.shape)"
   ]
  },
  {
   "cell_type": "code",
   "execution_count": 7,
   "metadata": {},
   "outputs": [
    {
     "data": {
      "text/plain": [
       "(1000, 1)"
      ]
     },
     "execution_count": 7,
     "metadata": {},
     "output_type": "execute_result"
    }
   ],
   "source": [
    "# Reshape trunk_stump_diameters\n",
    "reshaped_diameters = trunk_stump_diameters.reshape((1000, 1))\n",
    "\n",
    "reshaped_diameters.shape"
   ]
  },
  {
   "cell_type": "code",
   "execution_count": 11,
   "metadata": {},
   "outputs": [
    {
     "name": "stdout",
     "output_type": "stream",
     "text": [
      "[[     3 501451     24      0     24]\n",
      " [     4 501451     20      0     20]\n",
      " [     7 501911      3      0      3]\n",
      " ...\n",
      " [  1198 227387     11      0     11]\n",
      " [  1199 227387     11      0     11]\n",
      " [  1210 227386      6      0      6]]\n",
      "\n",
      "\n",
      "(1000, 5)\n"
     ]
    }
   ],
   "source": [
    "# Concatenate reshaped_diameters to tree_census as the last column\n",
    "concatenated_tree_census = np.concatenate((tree_census, reshaped_diameters), axis=1)\n",
    "print(concatenated_tree_census)\n",
    "print(\"\\n\")\n",
    "print(concatenated_tree_census.shape)"
   ]
  },
  {
   "cell_type": "markdown",
   "metadata": {},
   "source": [
    "**Deleting with np.delete()**\n",
    "\n",
    "What if your tree research focuses only on living trees on publicly-owned city blocks? It might be helpful to delete some unneeded data like the stump diameter column and some trees located on private blocks.\n",
    "\n",
    "You've learned that NumPy's np.delete() function takes three arguments: the original array, the index or indices to be deleted, and the axis to delete along. If you don't know the index or indices of the array you'd like to delete, recall that when it is only passed one argument,np.where() returns an array of indices where a condition is met!\n",
    "\n",
    "numpy is loaded as np, and the tree_census 2D array is available. The columns in order refer to a tree's ID, block number, trunk diameter, and stump diameter."
   ]
  },
  {
   "cell_type": "code",
   "execution_count": null,
   "metadata": {},
   "outputs": [
    {
     "name": "stdout",
     "output_type": "stream",
     "text": [
      "(998, 3)\n"
     ]
    }
   ],
   "source": [
    "# Delete the stump diameter column from tree_census\n",
    "tree_census_no_stumps = np.delete(tree_census, 3, axis=1)\n",
    "\n",
    "# Save the indices of the trees on block 313879\n",
    "private_block_indices = np.where(tree_census[:, 1] == 313879)\n",
    "\n",
    "# Delete the rows for trees on block 313879 from tree_census_no_stumps\n",
    "tree_census_clean = np.delete(tree_census_no_stumps, private_block_indices, axis=0)\n",
    "\n",
    "# Print the shape of tree_census_clean\n",
    "print(tree_census_clean.shape)"
   ]
  },
  {
   "cell_type": "markdown",
   "metadata": {},
   "source": [
    "## Summarizing data"
   ]
  },
  {
   "cell_type": "markdown",
   "metadata": {},
   "source": []
  },
  {
   "cell_type": "code",
   "execution_count": null,
   "metadata": {},
   "outputs": [],
   "source": []
  }
 ],
 "metadata": {
  "kernelspec": {
   "display_name": ".venv",
   "language": "python",
   "name": "python3"
  },
  "language_info": {
   "codemirror_mode": {
    "name": "ipython",
    "version": 3
   },
   "file_extension": ".py",
   "mimetype": "text/x-python",
   "name": "python",
   "nbconvert_exporter": "python",
   "pygments_lexer": "ipython3",
   "version": "3.9.0"
  }
 },
 "nbformat": 4,
 "nbformat_minor": 2
}
